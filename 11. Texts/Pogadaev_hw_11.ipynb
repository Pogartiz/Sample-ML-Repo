{
  "nbformat": 4,
  "nbformat_minor": 0,
  "metadata": {
    "colab": {
      "name": "Pogadaev_hw_11.ipynb",
      "provenance": []
    },
    "kernelspec": {
      "name": "python3",
      "display_name": "Python 3"
    },
    "language_info": {
      "name": "python"
    }
  },
  "cells": [
    {
      "cell_type": "code",
      "execution_count": 64,
      "metadata": {
        "colab": {
          "base_uri": "https://localhost:8080/"
        },
        "id": "HLakEjT6yGl3",
        "outputId": "c5592c16-f987-4550-d87f-eaeb799aa752"
      },
      "outputs": [
        {
          "output_type": "stream",
          "name": "stdout",
          "text": [
            "[nltk_data] Downloading package stopwords to /root/nltk_data...\n",
            "[nltk_data]   Package stopwords is already up-to-date!\n",
            "[nltk_data] Downloading package averaged_perceptron_tagger to\n",
            "[nltk_data]     /root/nltk_data...\n",
            "[nltk_data]   Package averaged_perceptron_tagger is already up-to-\n",
            "[nltk_data]       date!\n",
            "[nltk_data] Downloading package wordnet to /root/nltk_data...\n",
            "[nltk_data]   Package wordnet is already up-to-date!\n"
          ]
        }
      ],
      "source": [
        "import re\n",
        "import nltk\n",
        "from nltk.stem.snowball import SnowballStemmer\n",
        "from nltk import wordnet, pos_tag\n",
        "from nltk import WordNetLemmatizer\n",
        "from sklearn.preprocessing import LabelEncoder, OneHotEncoder\n",
        "from sklearn.feature_extraction.text import CountVectorizer\n",
        "from sklearn.feature_extraction.text import TfidfVectorizer\n",
        "from sklearn.model_selection import train_test_split\n",
        "from sklearn import metrics\n",
        "from nltk.corpus import wordnet\n",
        "import string\n",
        "from nltk import pos_tag\n",
        "nltk.download('stopwords')\n",
        "nltk.download('averaged_perceptron_tagger')\n",
        "nltk.download('wordnet')\n",
        "from nltk.tokenize import WhitespaceTokenizer\n",
        "from nltk.stem import WordNetLemmatizer"
      ]
    },
    {
      "cell_type": "code",
      "source": [
        "import pandas as pd\n",
        "import numpy as np"
      ],
      "metadata": {
        "id": "YU5Y8kjJEUDJ"
      },
      "execution_count": 65,
      "outputs": []
    },
    {
      "cell_type": "code",
      "source": [
        "url_test = 'https://raw.githubusercontent.com/kryzhikov/Sample-ML-Repo/main/11.%20Texts/nlp/test.csv'\n",
        "url_train = 'https://raw.githubusercontent.com/kryzhikov/Sample-ML-Repo/main/11.%20Texts/nlp/train.csv'\n",
        "url_positive_words = 'https://raw.githubusercontent.com/kryzhikov/Sample-ML-Repo/main/11.%20Texts/nlp/positive-words.txt'\n",
        "url_negative_words = 'https://raw.githubusercontent.com/kryzhikov/Sample-ML-Repo/main/11.%20Texts/nlp/negative-words.txt'\n",
        "url_sentiworldnet = 'https://raw.githubusercontent.com/kryzhikov/Sample-ML-Repo/main/11.%20Texts/nlp/SentiWordNet.txt'\n",
        "url_sample_submission = 'https://raw.githubusercontent.com/kryzhikov/Sample-ML-Repo/main/11.%20Texts/nlp/sample%20submission.csv'"
      ],
      "metadata": {
        "id": "J_g3wulTDYGt"
      },
      "execution_count": 66,
      "outputs": []
    },
    {
      "cell_type": "code",
      "source": [
        "test = pd.read_csv(url_test, encoding = 'unicode_escape')\n",
        "train = pd.read_csv(url_train, encoding = 'unicode_escape')\n",
        "#test_real = pd.read_csv(url_sample_submission, encoding = 'unicode_escape')"
      ],
      "metadata": {
        "id": "FkCFSZ7mESNk"
      },
      "execution_count": 67,
      "outputs": []
    },
    {
      "cell_type": "code",
      "source": [
        "train"
      ],
      "metadata": {
        "colab": {
          "base_uri": "https://localhost:8080/",
          "height": 424
        },
        "id": "pi791gdZEcPj",
        "outputId": "61d70827-24bb-4d83-c7b0-51eb5b1f88da"
      },
      "execution_count": 68,
      "outputs": [
        {
          "output_type": "execute_result",
          "data": {
            "text/plain": [
              "        Id                      Hotel_name  \\\n",
              "0        0                      Park Hyatt   \n",
              "1        1                  Hilton Chennai   \n",
              "2        2               The Royal Regency   \n",
              "3        3                          Rivera   \n",
              "4        4                      Park Hyatt   \n",
              "...    ...                             ...   \n",
              "2346  2346           Hyatt Regency Chennai   \n",
              "2347  2347                   New Woodlands   \n",
              "2348  2348               Samudra Residency   \n",
              "2349  2349           The Residency Chennai   \n",
              "2350  2350  Cloud Nine Serviced Apartments   \n",
              "\n",
              "                                           Review_Title  \\\n",
              "0                                     Refuge in Chennai   \n",
              "1                                        Hilton Chennai   \n",
              "2     No worth the rating shown in websites. Pricing...   \n",
              "3                                             Good stay   \n",
              "4                                     Needs improvement   \n",
              "...                                                 ...   \n",
              "2346                                                NaN   \n",
              "2347                                       Homely villa   \n",
              "2348                  Nice accommodation and facilities   \n",
              "2349         The Residency Good Centrally located Hotel   \n",
              "2350                Homely stay with comfort and luxury   \n",
              "\n",
              "                                            Review_Text  Rating  \n",
              "0     Excellent room and exercise facility. All arou...    80.0  \n",
              "1     Very comfortable and felt safe. \\r\\nStaff were...   100.0  \n",
              "2     Not worth the rating shown. Service is not goo...    71.0  \n",
              "3     First of all nice & courteous staff, only one ...    86.0  \n",
              "4     Overall ambience of the hotel is very good. In...    86.0  \n",
              "...                                                 ...     ...  \n",
              "2346  Most impressive service by staff in all areas....    80.0  \n",
              "2347  New woodlands chennai which gave me a homely e...    71.0  \n",
              "2348  Awesome I liked the neatness and maintenance. ...   100.0  \n",
              "2349  The overall experience was good. However the w...    80.0  \n",
              "2350  Its a very cool and luxurious cottage to stay ...    71.0  \n",
              "\n",
              "[2351 rows x 5 columns]"
            ],
            "text/html": [
              "\n",
              "  <div id=\"df-6293bb79-87cb-4bc4-8a20-9dd9b06a04d1\">\n",
              "    <div class=\"colab-df-container\">\n",
              "      <div>\n",
              "<style scoped>\n",
              "    .dataframe tbody tr th:only-of-type {\n",
              "        vertical-align: middle;\n",
              "    }\n",
              "\n",
              "    .dataframe tbody tr th {\n",
              "        vertical-align: top;\n",
              "    }\n",
              "\n",
              "    .dataframe thead th {\n",
              "        text-align: right;\n",
              "    }\n",
              "</style>\n",
              "<table border=\"1\" class=\"dataframe\">\n",
              "  <thead>\n",
              "    <tr style=\"text-align: right;\">\n",
              "      <th></th>\n",
              "      <th>Id</th>\n",
              "      <th>Hotel_name</th>\n",
              "      <th>Review_Title</th>\n",
              "      <th>Review_Text</th>\n",
              "      <th>Rating</th>\n",
              "    </tr>\n",
              "  </thead>\n",
              "  <tbody>\n",
              "    <tr>\n",
              "      <th>0</th>\n",
              "      <td>0</td>\n",
              "      <td>Park Hyatt</td>\n",
              "      <td>Refuge in Chennai</td>\n",
              "      <td>Excellent room and exercise facility. All arou...</td>\n",
              "      <td>80.0</td>\n",
              "    </tr>\n",
              "    <tr>\n",
              "      <th>1</th>\n",
              "      <td>1</td>\n",
              "      <td>Hilton Chennai</td>\n",
              "      <td>Hilton Chennai</td>\n",
              "      <td>Very comfortable and felt safe. \\r\\nStaff were...</td>\n",
              "      <td>100.0</td>\n",
              "    </tr>\n",
              "    <tr>\n",
              "      <th>2</th>\n",
              "      <td>2</td>\n",
              "      <td>The Royal Regency</td>\n",
              "      <td>No worth the rating shown in websites. Pricing...</td>\n",
              "      <td>Not worth the rating shown. Service is not goo...</td>\n",
              "      <td>71.0</td>\n",
              "    </tr>\n",
              "    <tr>\n",
              "      <th>3</th>\n",
              "      <td>3</td>\n",
              "      <td>Rivera</td>\n",
              "      <td>Good stay</td>\n",
              "      <td>First of all nice &amp; courteous staff, only one ...</td>\n",
              "      <td>86.0</td>\n",
              "    </tr>\n",
              "    <tr>\n",
              "      <th>4</th>\n",
              "      <td>4</td>\n",
              "      <td>Park Hyatt</td>\n",
              "      <td>Needs improvement</td>\n",
              "      <td>Overall ambience of the hotel is very good. In...</td>\n",
              "      <td>86.0</td>\n",
              "    </tr>\n",
              "    <tr>\n",
              "      <th>...</th>\n",
              "      <td>...</td>\n",
              "      <td>...</td>\n",
              "      <td>...</td>\n",
              "      <td>...</td>\n",
              "      <td>...</td>\n",
              "    </tr>\n",
              "    <tr>\n",
              "      <th>2346</th>\n",
              "      <td>2346</td>\n",
              "      <td>Hyatt Regency Chennai</td>\n",
              "      <td>NaN</td>\n",
              "      <td>Most impressive service by staff in all areas....</td>\n",
              "      <td>80.0</td>\n",
              "    </tr>\n",
              "    <tr>\n",
              "      <th>2347</th>\n",
              "      <td>2347</td>\n",
              "      <td>New Woodlands</td>\n",
              "      <td>Homely villa</td>\n",
              "      <td>New woodlands chennai which gave me a homely e...</td>\n",
              "      <td>71.0</td>\n",
              "    </tr>\n",
              "    <tr>\n",
              "      <th>2348</th>\n",
              "      <td>2348</td>\n",
              "      <td>Samudra Residency</td>\n",
              "      <td>Nice accommodation and facilities</td>\n",
              "      <td>Awesome I liked the neatness and maintenance. ...</td>\n",
              "      <td>100.0</td>\n",
              "    </tr>\n",
              "    <tr>\n",
              "      <th>2349</th>\n",
              "      <td>2349</td>\n",
              "      <td>The Residency Chennai</td>\n",
              "      <td>The Residency Good Centrally located Hotel</td>\n",
              "      <td>The overall experience was good. However the w...</td>\n",
              "      <td>80.0</td>\n",
              "    </tr>\n",
              "    <tr>\n",
              "      <th>2350</th>\n",
              "      <td>2350</td>\n",
              "      <td>Cloud Nine Serviced Apartments</td>\n",
              "      <td>Homely stay with comfort and luxury</td>\n",
              "      <td>Its a very cool and luxurious cottage to stay ...</td>\n",
              "      <td>71.0</td>\n",
              "    </tr>\n",
              "  </tbody>\n",
              "</table>\n",
              "<p>2351 rows × 5 columns</p>\n",
              "</div>\n",
              "      <button class=\"colab-df-convert\" onclick=\"convertToInteractive('df-6293bb79-87cb-4bc4-8a20-9dd9b06a04d1')\"\n",
              "              title=\"Convert this dataframe to an interactive table.\"\n",
              "              style=\"display:none;\">\n",
              "        \n",
              "  <svg xmlns=\"http://www.w3.org/2000/svg\" height=\"24px\"viewBox=\"0 0 24 24\"\n",
              "       width=\"24px\">\n",
              "    <path d=\"M0 0h24v24H0V0z\" fill=\"none\"/>\n",
              "    <path d=\"M18.56 5.44l.94 2.06.94-2.06 2.06-.94-2.06-.94-.94-2.06-.94 2.06-2.06.94zm-11 1L8.5 8.5l.94-2.06 2.06-.94-2.06-.94L8.5 2.5l-.94 2.06-2.06.94zm10 10l.94 2.06.94-2.06 2.06-.94-2.06-.94-.94-2.06-.94 2.06-2.06.94z\"/><path d=\"M17.41 7.96l-1.37-1.37c-.4-.4-.92-.59-1.43-.59-.52 0-1.04.2-1.43.59L10.3 9.45l-7.72 7.72c-.78.78-.78 2.05 0 2.83L4 21.41c.39.39.9.59 1.41.59.51 0 1.02-.2 1.41-.59l7.78-7.78 2.81-2.81c.8-.78.8-2.07 0-2.86zM5.41 20L4 18.59l7.72-7.72 1.47 1.35L5.41 20z\"/>\n",
              "  </svg>\n",
              "      </button>\n",
              "      \n",
              "  <style>\n",
              "    .colab-df-container {\n",
              "      display:flex;\n",
              "      flex-wrap:wrap;\n",
              "      gap: 12px;\n",
              "    }\n",
              "\n",
              "    .colab-df-convert {\n",
              "      background-color: #E8F0FE;\n",
              "      border: none;\n",
              "      border-radius: 50%;\n",
              "      cursor: pointer;\n",
              "      display: none;\n",
              "      fill: #1967D2;\n",
              "      height: 32px;\n",
              "      padding: 0 0 0 0;\n",
              "      width: 32px;\n",
              "    }\n",
              "\n",
              "    .colab-df-convert:hover {\n",
              "      background-color: #E2EBFA;\n",
              "      box-shadow: 0px 1px 2px rgba(60, 64, 67, 0.3), 0px 1px 3px 1px rgba(60, 64, 67, 0.15);\n",
              "      fill: #174EA6;\n",
              "    }\n",
              "\n",
              "    [theme=dark] .colab-df-convert {\n",
              "      background-color: #3B4455;\n",
              "      fill: #D2E3FC;\n",
              "    }\n",
              "\n",
              "    [theme=dark] .colab-df-convert:hover {\n",
              "      background-color: #434B5C;\n",
              "      box-shadow: 0px 1px 3px 1px rgba(0, 0, 0, 0.15);\n",
              "      filter: drop-shadow(0px 1px 2px rgba(0, 0, 0, 0.3));\n",
              "      fill: #FFFFFF;\n",
              "    }\n",
              "  </style>\n",
              "\n",
              "      <script>\n",
              "        const buttonEl =\n",
              "          document.querySelector('#df-6293bb79-87cb-4bc4-8a20-9dd9b06a04d1 button.colab-df-convert');\n",
              "        buttonEl.style.display =\n",
              "          google.colab.kernel.accessAllowed ? 'block' : 'none';\n",
              "\n",
              "        async function convertToInteractive(key) {\n",
              "          const element = document.querySelector('#df-6293bb79-87cb-4bc4-8a20-9dd9b06a04d1');\n",
              "          const dataTable =\n",
              "            await google.colab.kernel.invokeFunction('convertToInteractive',\n",
              "                                                     [key], {});\n",
              "          if (!dataTable) return;\n",
              "\n",
              "          const docLinkHtml = 'Like what you see? Visit the ' +\n",
              "            '<a target=\"_blank\" href=https://colab.research.google.com/notebooks/data_table.ipynb>data table notebook</a>'\n",
              "            + ' to learn more about interactive tables.';\n",
              "          element.innerHTML = '';\n",
              "          dataTable['output_type'] = 'display_data';\n",
              "          await google.colab.output.renderOutput(dataTable, element);\n",
              "          const docLink = document.createElement('div');\n",
              "          docLink.innerHTML = docLinkHtml;\n",
              "          element.appendChild(docLink);\n",
              "        }\n",
              "      </script>\n",
              "    </div>\n",
              "  </div>\n",
              "  "
            ]
          },
          "metadata": {},
          "execution_count": 68
        }
      ]
    },
    {
      "cell_type": "code",
      "source": [
        "train.shape"
      ],
      "metadata": {
        "colab": {
          "base_uri": "https://localhost:8080/"
        },
        "id": "NkKaqg80H8m7",
        "outputId": "4f7f2c5a-5c8a-4c15-cacd-8974b130041e"
      },
      "execution_count": 69,
      "outputs": [
        {
          "output_type": "execute_result",
          "data": {
            "text/plain": [
              "(2351, 5)"
            ]
          },
          "metadata": {},
          "execution_count": 69
        }
      ]
    },
    {
      "cell_type": "code",
      "source": [
        "train.isnull().sum()"
      ],
      "metadata": {
        "colab": {
          "base_uri": "https://localhost:8080/"
        },
        "id": "NhPcNMLfKHrj",
        "outputId": "b61e0c94-7e47-44d7-990f-615b829f484c"
      },
      "execution_count": 70,
      "outputs": [
        {
          "output_type": "execute_result",
          "data": {
            "text/plain": [
              "Id                0\n",
              "Hotel_name        0\n",
              "Review_Title    215\n",
              "Review_Text       0\n",
              "Rating            0\n",
              "dtype: int64"
            ]
          },
          "metadata": {},
          "execution_count": 70
        }
      ]
    },
    {
      "cell_type": "code",
      "source": [
        "train.isna().sum()"
      ],
      "metadata": {
        "colab": {
          "base_uri": "https://localhost:8080/"
        },
        "id": "0upy1DBMKT-W",
        "outputId": "707edade-c100-4f3d-c5bf-51e62d3c7b04"
      },
      "execution_count": 71,
      "outputs": [
        {
          "output_type": "execute_result",
          "data": {
            "text/plain": [
              "Id                0\n",
              "Hotel_name        0\n",
              "Review_Title    215\n",
              "Review_Text       0\n",
              "Rating            0\n",
              "dtype: int64"
            ]
          },
          "metadata": {},
          "execution_count": 71
        }
      ]
    },
    {
      "cell_type": "markdown",
      "source": [
        "Видим, что nan есть только в названиях отзывов."
      ],
      "metadata": {
        "id": "N8usWLx0KRDO"
      }
    },
    {
      "cell_type": "markdown",
      "source": [
        "Посмотрим на гистограмму распределения оценок:"
      ],
      "metadata": {
        "id": "IjOwGJOHKmPz"
      }
    },
    {
      "cell_type": "code",
      "source": [
        "import plotly.express as px\n",
        "fig = px.histogram(train, x=\"Rating\")\n",
        "fig.show()"
      ],
      "metadata": {
        "colab": {
          "base_uri": "https://localhost:8080/",
          "height": 542
        },
        "id": "59arwYgEKMnS",
        "outputId": "c96a70b8-7a4e-4f62-804e-1d3d6d934cd1"
      },
      "execution_count": 72,
      "outputs": [
        {
          "output_type": "display_data",
          "data": {
            "text/html": [
              "<html>\n",
              "<head><meta charset=\"utf-8\" /></head>\n",
              "<body>\n",
              "    <div>            <script src=\"https://cdnjs.cloudflare.com/ajax/libs/mathjax/2.7.5/MathJax.js?config=TeX-AMS-MML_SVG\"></script><script type=\"text/javascript\">if (window.MathJax) {MathJax.Hub.Config({SVG: {font: \"STIX-Web\"}});}</script>                <script type=\"text/javascript\">window.PlotlyConfig = {MathJaxConfig: 'local'};</script>\n",
              "        <script src=\"https://cdn.plot.ly/plotly-2.8.3.min.js\"></script>                <div id=\"ead03ad9-0c05-4146-939d-173655563028\" class=\"plotly-graph-div\" style=\"height:525px; width:100%;\"></div>            <script type=\"text/javascript\">                                    window.PLOTLYENV=window.PLOTLYENV || {};                                    if (document.getElementById(\"ead03ad9-0c05-4146-939d-173655563028\")) {                    Plotly.newPlot(                        \"ead03ad9-0c05-4146-939d-173655563028\",                        [{\"alignmentgroup\":\"True\",\"bingroup\":\"x\",\"hovertemplate\":\"Rating=%{x}<br>count=%{y}<extra></extra>\",\"legendgroup\":\"\",\"marker\":{\"color\":\"#636efa\",\"pattern\":{\"shape\":\"\"}},\"name\":\"\",\"offsetgroup\":\"\",\"orientation\":\"v\",\"showlegend\":false,\"x\":[80.0,100.0,71.0,86.0,86.0,71.0,80.0,40.0,40.0,57.0,86.0,80.0,43.0,20.0,71.0,86.0,60.0,43.0,57.0,60.0,60.0,86.0,86.0,86.0,80.0,100.0,71.0,100.0,71.0,100.0,20.0,65.0,57.0,57.0,65.0,71.0,29.0,65.0,43.0,100.0,80.0,100.0,86.0,65.0,86.0,20.0,86.0,100.0,100.0,43.0,86.0,29.0,86.0,100.0,100.0,80.0,40.0,65.0,100.0,65.0,86.0,40.0,86.0,86.0,71.0,40.0,71.0,86.0,29.0,40.0,65.0,60.0,20.0,71.0,71.0,80.0,86.0,100.0,60.0,86.0,57.0,57.0,57.0,65.0,29.0,80.0,100.0,71.0,65.0,20.0,80.0,71.0,100.0,80.0,100.0,80.0,100.0,86.0,43.0,100.0,86.0,100.0,86.0,80.0,86.0,65.0,65.0,80.0,86.0,86.0,80.0,65.0,71.0,80.0,57.0,86.0,60.0,57.0,100.0,100.0,57.0,86.0,100.0,80.0,71.0,80.0,43.0,80.0,29.0,80.0,80.0,71.0,80.0,86.0,40.0,86.0,20.0,65.0,71.0,80.0,100.0,60.0,86.0,40.0,100.0,100.0,100.0,57.0,57.0,71.0,100.0,71.0,71.0,29.0,57.0,100.0,80.0,100.0,80.0,80.0,57.0,86.0,65.0,60.0,71.0,100.0,71.0,71.0,40.0,100.0,29.0,86.0,100.0,80.0,86.0,20.0,80.0,71.0,86.0,80.0,80.0,86.0,100.0,100.0,100.0,71.0,60.0,71.0,71.0,86.0,43.0,43.0,86.0,71.0,100.0,86.0,80.0,100.0,40.0,20.0,100.0,71.0,71.0,71.0,60.0,100.0,80.0,80.0,80.0,60.0,40.0,86.0,100.0,57.0,40.0,57.0,65.0,86.0,80.0,100.0,86.0,86.0,40.0,100.0,57.0,60.0,57.0,86.0,80.0,100.0,86.0,100.0,100.0,71.0,86.0,100.0,20.0,80.0,100.0,100.0,80.0,100.0,86.0,100.0,100.0,86.0,86.0,86.0,100.0,71.0,40.0,29.0,100.0,57.0,20.0,100.0,100.0,80.0,80.0,71.0,65.0,86.0,100.0,57.0,100.0,71.0,57.0,29.0,86.0,86.0,86.0,100.0,65.0,20.0,71.0,57.0,100.0,80.0,86.0,43.0,100.0,20.0,80.0,100.0,100.0,71.0,86.0,71.0,20.0,71.0,80.0,71.0,100.0,100.0,71.0,29.0,40.0,86.0,60.0,80.0,60.0,86.0,100.0,71.0,65.0,86.0,71.0,86.0,86.0,86.0,80.0,100.0,71.0,71.0,80.0,65.0,100.0,86.0,29.0,43.0,86.0,86.0,40.0,86.0,60.0,86.0,100.0,100.0,86.0,100.0,60.0,60.0,57.0,60.0,80.0,29.0,60.0,86.0,60.0,40.0,65.0,71.0,80.0,65.0,20.0,100.0,60.0,57.0,80.0,20.0,100.0,20.0,71.0,86.0,43.0,65.0,86.0,100.0,80.0,60.0,100.0,100.0,71.0,80.0,80.0,86.0,86.0,100.0,57.0,86.0,86.0,80.0,65.0,20.0,60.0,80.0,29.0,71.0,86.0,29.0,80.0,86.0,86.0,71.0,40.0,80.0,71.0,71.0,100.0,60.0,71.0,100.0,60.0,80.0,80.0,71.0,71.0,71.0,71.0,100.0,100.0,80.0,86.0,20.0,57.0,80.0,71.0,80.0,86.0,80.0,20.0,100.0,29.0,100.0,86.0,86.0,71.0,71.0,80.0,100.0,80.0,71.0,57.0,71.0,60.0,86.0,60.0,100.0,80.0,43.0,80.0,100.0,71.0,86.0,100.0,40.0,43.0,80.0,29.0,71.0,100.0,57.0,43.0,65.0,29.0,86.0,100.0,100.0,80.0,57.0,43.0,100.0,80.0,86.0,100.0,100.0,60.0,71.0,100.0,100.0,80.0,65.0,80.0,86.0,100.0,100.0,65.0,20.0,71.0,80.0,20.0,80.0,80.0,43.0,71.0,43.0,71.0,86.0,71.0,100.0,40.0,40.0,80.0,100.0,100.0,60.0,86.0,80.0,40.0,71.0,40.0,86.0,100.0,100.0,86.0,60.0,86.0,40.0,86.0,86.0,20.0,20.0,86.0,80.0,100.0,57.0,71.0,100.0,60.0,57.0,80.0,86.0,86.0,71.0,57.0,20.0,80.0,80.0,65.0,71.0,65.0,86.0,86.0,80.0,86.0,80.0,29.0,60.0,43.0,60.0,80.0,100.0,71.0,100.0,29.0,86.0,86.0,20.0,100.0,100.0,100.0,71.0,60.0,20.0,80.0,80.0,100.0,65.0,43.0,57.0,71.0,100.0,100.0,86.0,71.0,100.0,40.0,71.0,86.0,100.0,86.0,71.0,100.0,80.0,57.0,86.0,100.0,100.0,71.0,57.0,86.0,65.0,100.0,86.0,100.0,100.0,80.0,100.0,86.0,100.0,86.0,71.0,100.0,86.0,57.0,80.0,80.0,80.0,43.0,60.0,86.0,100.0,29.0,71.0,20.0,80.0,100.0,100.0,71.0,86.0,71.0,57.0,80.0,71.0,80.0,100.0,65.0,29.0,80.0,60.0,60.0,71.0,86.0,60.0,100.0,20.0,65.0,71.0,80.0,86.0,86.0,71.0,43.0,80.0,71.0,86.0,57.0,57.0,20.0,100.0,86.0,86.0,86.0,60.0,80.0,57.0,60.0,65.0,86.0,71.0,100.0,80.0,71.0,60.0,86.0,60.0,100.0,60.0,80.0,80.0,71.0,65.0,60.0,80.0,80.0,71.0,60.0,80.0,100.0,29.0,57.0,100.0,100.0,71.0,40.0,100.0,71.0,100.0,60.0,60.0,100.0,43.0,100.0,86.0,86.0,40.0,71.0,71.0,40.0,100.0,100.0,43.0,65.0,86.0,86.0,86.0,100.0,71.0,100.0,60.0,65.0,100.0,100.0,20.0,86.0,71.0,86.0,43.0,43.0,65.0,80.0,86.0,60.0,71.0,60.0,60.0,86.0,65.0,100.0,71.0,86.0,80.0,43.0,100.0,60.0,71.0,57.0,60.0,86.0,40.0,86.0,65.0,100.0,71.0,57.0,86.0,86.0,86.0,86.0,29.0,60.0,80.0,86.0,20.0,71.0,71.0,60.0,80.0,60.0,86.0,29.0,86.0,80.0,71.0,29.0,80.0,100.0,86.0,80.0,29.0,43.0,80.0,80.0,86.0,80.0,86.0,71.0,86.0,100.0,100.0,80.0,71.0,86.0,86.0,71.0,71.0,100.0,100.0,20.0,86.0,40.0,71.0,65.0,86.0,20.0,86.0,86.0,71.0,86.0,80.0,80.0,100.0,20.0,100.0,60.0,100.0,86.0,65.0,86.0,86.0,100.0,71.0,57.0,71.0,57.0,86.0,65.0,71.0,86.0,86.0,86.0,100.0,80.0,40.0,43.0,86.0,86.0,86.0,86.0,60.0,86.0,40.0,71.0,80.0,86.0,65.0,29.0,29.0,86.0,86.0,86.0,65.0,80.0,86.0,40.0,100.0,86.0,20.0,65.0,86.0,20.0,65.0,65.0,20.0,100.0,100.0,40.0,86.0,80.0,65.0,80.0,100.0,57.0,86.0,71.0,65.0,60.0,86.0,80.0,71.0,60.0,86.0,80.0,71.0,57.0,60.0,86.0,80.0,80.0,86.0,20.0,71.0,86.0,86.0,86.0,86.0,71.0,80.0,43.0,80.0,86.0,86.0,80.0,80.0,65.0,100.0,57.0,100.0,57.0,71.0,57.0,100.0,71.0,71.0,29.0,71.0,65.0,40.0,60.0,80.0,86.0,71.0,65.0,20.0,100.0,100.0,57.0,86.0,80.0,57.0,71.0,60.0,100.0,80.0,86.0,40.0,86.0,71.0,86.0,100.0,86.0,80.0,57.0,65.0,60.0,71.0,71.0,100.0,43.0,57.0,65.0,100.0,20.0,86.0,100.0,86.0,71.0,65.0,71.0,65.0,57.0,86.0,57.0,80.0,80.0,60.0,86.0,71.0,86.0,71.0,80.0,20.0,65.0,65.0,40.0,65.0,71.0,29.0,100.0,86.0,40.0,40.0,100.0,100.0,100.0,43.0,86.0,86.0,65.0,80.0,86.0,71.0,80.0,65.0,86.0,86.0,80.0,86.0,60.0,86.0,29.0,29.0,40.0,86.0,100.0,60.0,43.0,60.0,57.0,43.0,100.0,86.0,100.0,100.0,80.0,100.0,80.0,86.0,71.0,57.0,86.0,29.0,43.0,71.0,86.0,20.0,100.0,100.0,100.0,100.0,60.0,57.0,71.0,29.0,80.0,20.0,65.0,20.0,86.0,57.0,71.0,80.0,57.0,65.0,65.0,86.0,86.0,86.0,60.0,100.0,29.0,80.0,100.0,100.0,86.0,65.0,86.0,100.0,80.0,86.0,100.0,60.0,86.0,65.0,65.0,80.0,86.0,60.0,71.0,80.0,80.0,65.0,100.0,57.0,71.0,29.0,71.0,86.0,71.0,86.0,65.0,57.0,86.0,60.0,86.0,57.0,100.0,43.0,80.0,80.0,60.0,100.0,71.0,71.0,80.0,100.0,65.0,80.0,86.0,80.0,71.0,29.0,65.0,86.0,60.0,71.0,100.0,86.0,100.0,71.0,86.0,71.0,60.0,65.0,100.0,57.0,71.0,86.0,60.0,71.0,71.0,80.0,65.0,65.0,100.0,100.0,20.0,100.0,57.0,71.0,40.0,86.0,100.0,100.0,71.0,100.0,80.0,40.0,71.0,86.0,100.0,29.0,86.0,86.0,100.0,57.0,86.0,71.0,40.0,60.0,20.0,80.0,86.0,86.0,71.0,80.0,65.0,43.0,65.0,60.0,57.0,57.0,100.0,80.0,57.0,86.0,20.0,100.0,60.0,100.0,65.0,86.0,71.0,40.0,20.0,100.0,57.0,20.0,100.0,86.0,71.0,29.0,100.0,57.0,100.0,57.0,86.0,71.0,86.0,57.0,100.0,57.0,71.0,43.0,40.0,100.0,86.0,40.0,71.0,71.0,43.0,86.0,100.0,65.0,86.0,80.0,86.0,100.0,86.0,80.0,65.0,60.0,71.0,100.0,71.0,100.0,86.0,71.0,86.0,100.0,65.0,100.0,60.0,100.0,57.0,80.0,86.0,71.0,71.0,100.0,71.0,86.0,100.0,100.0,71.0,86.0,80.0,86.0,86.0,86.0,71.0,80.0,40.0,100.0,71.0,86.0,100.0,65.0,65.0,86.0,60.0,60.0,43.0,100.0,100.0,86.0,80.0,60.0,40.0,86.0,86.0,100.0,86.0,29.0,86.0,86.0,40.0,80.0,100.0,43.0,86.0,71.0,71.0,80.0,80.0,80.0,57.0,71.0,100.0,71.0,86.0,71.0,80.0,60.0,65.0,86.0,86.0,57.0,20.0,71.0,86.0,60.0,43.0,80.0,71.0,86.0,80.0,20.0,65.0,100.0,86.0,86.0,100.0,86.0,80.0,57.0,100.0,71.0,65.0,40.0,80.0,60.0,86.0,71.0,86.0,57.0,60.0,100.0,20.0,86.0,86.0,71.0,80.0,80.0,29.0,71.0,100.0,100.0,71.0,71.0,71.0,71.0,65.0,86.0,43.0,100.0,40.0,71.0,40.0,80.0,100.0,100.0,60.0,60.0,60.0,65.0,57.0,86.0,43.0,60.0,60.0,20.0,65.0,60.0,80.0,100.0,65.0,100.0,65.0,65.0,100.0,100.0,86.0,71.0,65.0,43.0,86.0,57.0,57.0,86.0,20.0,100.0,65.0,65.0,100.0,100.0,80.0,100.0,43.0,100.0,100.0,60.0,86.0,80.0,60.0,86.0,86.0,86.0,65.0,20.0,86.0,29.0,60.0,100.0,100.0,71.0,71.0,57.0,100.0,29.0,43.0,20.0,86.0,60.0,86.0,86.0,40.0,86.0,71.0,65.0,86.0,60.0,20.0,60.0,57.0,65.0,86.0,60.0,80.0,57.0,71.0,86.0,71.0,80.0,100.0,40.0,60.0,29.0,43.0,71.0,71.0,80.0,71.0,60.0,86.0,100.0,60.0,86.0,80.0,86.0,60.0,57.0,57.0,71.0,86.0,100.0,65.0,100.0,71.0,65.0,57.0,43.0,100.0,60.0,60.0,100.0,80.0,71.0,80.0,100.0,71.0,80.0,100.0,86.0,86.0,71.0,71.0,71.0,71.0,100.0,100.0,80.0,80.0,80.0,57.0,60.0,65.0,80.0,100.0,86.0,65.0,86.0,100.0,71.0,100.0,43.0,29.0,60.0,80.0,57.0,86.0,86.0,100.0,100.0,86.0,65.0,86.0,65.0,60.0,71.0,80.0,57.0,60.0,20.0,20.0,40.0,29.0,100.0,29.0,71.0,60.0,80.0,86.0,71.0,71.0,86.0,86.0,86.0,40.0,100.0,43.0,86.0,65.0,43.0,57.0,65.0,40.0,86.0,40.0,86.0,100.0,65.0,86.0,86.0,100.0,86.0,71.0,86.0,80.0,80.0,60.0,43.0,80.0,80.0,71.0,86.0,100.0,71.0,80.0,43.0,86.0,86.0,43.0,29.0,80.0,65.0,65.0,71.0,86.0,86.0,57.0,65.0,71.0,60.0,60.0,60.0,86.0,100.0,71.0,57.0,60.0,86.0,71.0,100.0,86.0,100.0,65.0,80.0,86.0,71.0,86.0,20.0,100.0,20.0,29.0,71.0,60.0,40.0,100.0,86.0,71.0,80.0,100.0,65.0,60.0,60.0,86.0,40.0,20.0,86.0,71.0,100.0,86.0,100.0,100.0,100.0,65.0,80.0,80.0,57.0,43.0,86.0,80.0,29.0,71.0,60.0,57.0,100.0,100.0,40.0,65.0,100.0,80.0,65.0,57.0,86.0,86.0,20.0,86.0,80.0,80.0,86.0,100.0,71.0,86.0,57.0,40.0,100.0,20.0,86.0,57.0,100.0,65.0,20.0,20.0,80.0,65.0,71.0,65.0,80.0,100.0,86.0,86.0,100.0,80.0,86.0,40.0,43.0,65.0,40.0,100.0,60.0,29.0,86.0,40.0,71.0,65.0,71.0,71.0,100.0,60.0,71.0,40.0,86.0,100.0,86.0,80.0,80.0,86.0,86.0,86.0,40.0,71.0,40.0,80.0,100.0,65.0,71.0,100.0,29.0,80.0,100.0,71.0,86.0,100.0,86.0,80.0,80.0,20.0,65.0,100.0,60.0,71.0,100.0,71.0,80.0,40.0,43.0,80.0,71.0,57.0,71.0,20.0,71.0,29.0,100.0,80.0,60.0,86.0,80.0,100.0,86.0,65.0,29.0,60.0,60.0,80.0,86.0,86.0,71.0,71.0,80.0,57.0,86.0,71.0,71.0,100.0,100.0,100.0,80.0,80.0,86.0,20.0,80.0,71.0,80.0,100.0,80.0,86.0,80.0,86.0,86.0,71.0,71.0,100.0,100.0,86.0,100.0,86.0,80.0,100.0,43.0,80.0,57.0,40.0,100.0,86.0,86.0,86.0,71.0,43.0,71.0,43.0,60.0,71.0,80.0,100.0,80.0,20.0,86.0,86.0,100.0,60.0,100.0,57.0,86.0,57.0,60.0,86.0,80.0,100.0,71.0,86.0,80.0,43.0,100.0,100.0,71.0,65.0,86.0,40.0,100.0,71.0,100.0,100.0,65.0,71.0,60.0,80.0,80.0,43.0,86.0,65.0,86.0,100.0,100.0,86.0,71.0,100.0,100.0,100.0,20.0,20.0,57.0,71.0,71.0,100.0,60.0,86.0,60.0,71.0,65.0,100.0,86.0,86.0,86.0,86.0,60.0,60.0,43.0,86.0,60.0,100.0,57.0,80.0,100.0,65.0,71.0,40.0,29.0,86.0,100.0,60.0,86.0,40.0,71.0,65.0,86.0,100.0,80.0,71.0,86.0,57.0,65.0,71.0,80.0,43.0,71.0,71.0,100.0,57.0,100.0,57.0,80.0,71.0,80.0,71.0,65.0,100.0,71.0,71.0,100.0,57.0,86.0,80.0,86.0,71.0,86.0,86.0,80.0,80.0,60.0,86.0,100.0,43.0,86.0,86.0,20.0,80.0,65.0,43.0,100.0,65.0,86.0,80.0,60.0,71.0,80.0,57.0,71.0,29.0,60.0,100.0,100.0,65.0,57.0,43.0,100.0,100.0,71.0,100.0,71.0,86.0,86.0,100.0,80.0,100.0,20.0,40.0,65.0,71.0,80.0,60.0,80.0,80.0,80.0,29.0,40.0,60.0,86.0,71.0,86.0,60.0,57.0,29.0,100.0,100.0,86.0,100.0,57.0,100.0,65.0,86.0,86.0,86.0,71.0,57.0,100.0,71.0,80.0,80.0,80.0,65.0,80.0,86.0,43.0,100.0,65.0,71.0,86.0,86.0,60.0,60.0,65.0,71.0,65.0,86.0,71.0,20.0,86.0,100.0,60.0,57.0,20.0,65.0,86.0,65.0,100.0,57.0,86.0,86.0,57.0,80.0,100.0,65.0,86.0,20.0,86.0,86.0,100.0,86.0,86.0,57.0,80.0,100.0,43.0,100.0,65.0,57.0,100.0,86.0,100.0,71.0,43.0,86.0,60.0,80.0,57.0,40.0,80.0,80.0,86.0,80.0,65.0,86.0,57.0,100.0,100.0,65.0,65.0,80.0,60.0,60.0,65.0,60.0,100.0,86.0,40.0,71.0,100.0,80.0,71.0,71.0,60.0,86.0,40.0,80.0,80.0,43.0,86.0,100.0,100.0,57.0,57.0,86.0,71.0,100.0,65.0,80.0,60.0,100.0,65.0,20.0,65.0,20.0,100.0,86.0,71.0,100.0,100.0,29.0,43.0,86.0,100.0,71.0,100.0,100.0,100.0,40.0,80.0,100.0,40.0,100.0,80.0,100.0,57.0,80.0,71.0,71.0,60.0,100.0,29.0,86.0,86.0,86.0,100.0,57.0,100.0,57.0,100.0,100.0,43.0,86.0,80.0,86.0,100.0,71.0,29.0,43.0,86.0,100.0,71.0,60.0,86.0,86.0,43.0,80.0,60.0,29.0,71.0,100.0,80.0,86.0,86.0,71.0,40.0,100.0,71.0,80.0,60.0,71.0,57.0,71.0,65.0,86.0,86.0,100.0,80.0,100.0,86.0,80.0,100.0,71.0,60.0,100.0,57.0,86.0,100.0,43.0,100.0,100.0,20.0,100.0,71.0,100.0,40.0,20.0,65.0,71.0,57.0,71.0,43.0,29.0,20.0,71.0,29.0,86.0,71.0,60.0,71.0,20.0,43.0,86.0,100.0,65.0,100.0,100.0,100.0,40.0,100.0,100.0,80.0,43.0,71.0,100.0,57.0,80.0,100.0,57.0,86.0,100.0,100.0,20.0,60.0,100.0,100.0,86.0,80.0,86.0,71.0,60.0,40.0,100.0,86.0,86.0,40.0,57.0,86.0,80.0,86.0,86.0,43.0,71.0,100.0,60.0,100.0,86.0,29.0,100.0,80.0,40.0,71.0,100.0,100.0,29.0,100.0,86.0,57.0,71.0,60.0,20.0,80.0,60.0,60.0,86.0,100.0,29.0,43.0,100.0,86.0,71.0,20.0,100.0,80.0,80.0,100.0,100.0,43.0,80.0,80.0,65.0,86.0,71.0,60.0,100.0,60.0,86.0,71.0,71.0,86.0,71.0,65.0,57.0,86.0,100.0,29.0,57.0,100.0,80.0,86.0,80.0,100.0,80.0,40.0,100.0,71.0,100.0,43.0,65.0,71.0,100.0,86.0,100.0,86.0,80.0,71.0,86.0,86.0,86.0,100.0,60.0,80.0,86.0,65.0,80.0,86.0,71.0,71.0,100.0,71.0,71.0,57.0,60.0,57.0,43.0,60.0,20.0,80.0,100.0,80.0,80.0,65.0,100.0,80.0,80.0,71.0,100.0,71.0,80.0,100.0,100.0,65.0,80.0,86.0,57.0,65.0,71.0,100.0,86.0,80.0,43.0,71.0,100.0,40.0,86.0,43.0,71.0,86.0,57.0,100.0,71.0,86.0,57.0,86.0,20.0,65.0,71.0,100.0,60.0,60.0,86.0,86.0,86.0,100.0,100.0,80.0,80.0,71.0,80.0,57.0,71.0,80.0,57.0,100.0,86.0,100.0,80.0,86.0,43.0,65.0,80.0,65.0,86.0,100.0,29.0,100.0,80.0,71.0,100.0,80.0,71.0],\"xaxis\":\"x\",\"yaxis\":\"y\",\"type\":\"histogram\"}],                        {\"template\":{\"data\":{\"bar\":[{\"error_x\":{\"color\":\"#2a3f5f\"},\"error_y\":{\"color\":\"#2a3f5f\"},\"marker\":{\"line\":{\"color\":\"#E5ECF6\",\"width\":0.5},\"pattern\":{\"fillmode\":\"overlay\",\"size\":10,\"solidity\":0.2}},\"type\":\"bar\"}],\"barpolar\":[{\"marker\":{\"line\":{\"color\":\"#E5ECF6\",\"width\":0.5},\"pattern\":{\"fillmode\":\"overlay\",\"size\":10,\"solidity\":0.2}},\"type\":\"barpolar\"}],\"carpet\":[{\"aaxis\":{\"endlinecolor\":\"#2a3f5f\",\"gridcolor\":\"white\",\"linecolor\":\"white\",\"minorgridcolor\":\"white\",\"startlinecolor\":\"#2a3f5f\"},\"baxis\":{\"endlinecolor\":\"#2a3f5f\",\"gridcolor\":\"white\",\"linecolor\":\"white\",\"minorgridcolor\":\"white\",\"startlinecolor\":\"#2a3f5f\"},\"type\":\"carpet\"}],\"choropleth\":[{\"colorbar\":{\"outlinewidth\":0,\"ticks\":\"\"},\"type\":\"choropleth\"}],\"contour\":[{\"colorbar\":{\"outlinewidth\":0,\"ticks\":\"\"},\"colorscale\":[[0.0,\"#0d0887\"],[0.1111111111111111,\"#46039f\"],[0.2222222222222222,\"#7201a8\"],[0.3333333333333333,\"#9c179e\"],[0.4444444444444444,\"#bd3786\"],[0.5555555555555556,\"#d8576b\"],[0.6666666666666666,\"#ed7953\"],[0.7777777777777778,\"#fb9f3a\"],[0.8888888888888888,\"#fdca26\"],[1.0,\"#f0f921\"]],\"type\":\"contour\"}],\"contourcarpet\":[{\"colorbar\":{\"outlinewidth\":0,\"ticks\":\"\"},\"type\":\"contourcarpet\"}],\"heatmap\":[{\"colorbar\":{\"outlinewidth\":0,\"ticks\":\"\"},\"colorscale\":[[0.0,\"#0d0887\"],[0.1111111111111111,\"#46039f\"],[0.2222222222222222,\"#7201a8\"],[0.3333333333333333,\"#9c179e\"],[0.4444444444444444,\"#bd3786\"],[0.5555555555555556,\"#d8576b\"],[0.6666666666666666,\"#ed7953\"],[0.7777777777777778,\"#fb9f3a\"],[0.8888888888888888,\"#fdca26\"],[1.0,\"#f0f921\"]],\"type\":\"heatmap\"}],\"heatmapgl\":[{\"colorbar\":{\"outlinewidth\":0,\"ticks\":\"\"},\"colorscale\":[[0.0,\"#0d0887\"],[0.1111111111111111,\"#46039f\"],[0.2222222222222222,\"#7201a8\"],[0.3333333333333333,\"#9c179e\"],[0.4444444444444444,\"#bd3786\"],[0.5555555555555556,\"#d8576b\"],[0.6666666666666666,\"#ed7953\"],[0.7777777777777778,\"#fb9f3a\"],[0.8888888888888888,\"#fdca26\"],[1.0,\"#f0f921\"]],\"type\":\"heatmapgl\"}],\"histogram\":[{\"marker\":{\"pattern\":{\"fillmode\":\"overlay\",\"size\":10,\"solidity\":0.2}},\"type\":\"histogram\"}],\"histogram2d\":[{\"colorbar\":{\"outlinewidth\":0,\"ticks\":\"\"},\"colorscale\":[[0.0,\"#0d0887\"],[0.1111111111111111,\"#46039f\"],[0.2222222222222222,\"#7201a8\"],[0.3333333333333333,\"#9c179e\"],[0.4444444444444444,\"#bd3786\"],[0.5555555555555556,\"#d8576b\"],[0.6666666666666666,\"#ed7953\"],[0.7777777777777778,\"#fb9f3a\"],[0.8888888888888888,\"#fdca26\"],[1.0,\"#f0f921\"]],\"type\":\"histogram2d\"}],\"histogram2dcontour\":[{\"colorbar\":{\"outlinewidth\":0,\"ticks\":\"\"},\"colorscale\":[[0.0,\"#0d0887\"],[0.1111111111111111,\"#46039f\"],[0.2222222222222222,\"#7201a8\"],[0.3333333333333333,\"#9c179e\"],[0.4444444444444444,\"#bd3786\"],[0.5555555555555556,\"#d8576b\"],[0.6666666666666666,\"#ed7953\"],[0.7777777777777778,\"#fb9f3a\"],[0.8888888888888888,\"#fdca26\"],[1.0,\"#f0f921\"]],\"type\":\"histogram2dcontour\"}],\"mesh3d\":[{\"colorbar\":{\"outlinewidth\":0,\"ticks\":\"\"},\"type\":\"mesh3d\"}],\"parcoords\":[{\"line\":{\"colorbar\":{\"outlinewidth\":0,\"ticks\":\"\"}},\"type\":\"parcoords\"}],\"pie\":[{\"automargin\":true,\"type\":\"pie\"}],\"scatter\":[{\"marker\":{\"colorbar\":{\"outlinewidth\":0,\"ticks\":\"\"}},\"type\":\"scatter\"}],\"scatter3d\":[{\"line\":{\"colorbar\":{\"outlinewidth\":0,\"ticks\":\"\"}},\"marker\":{\"colorbar\":{\"outlinewidth\":0,\"ticks\":\"\"}},\"type\":\"scatter3d\"}],\"scattercarpet\":[{\"marker\":{\"colorbar\":{\"outlinewidth\":0,\"ticks\":\"\"}},\"type\":\"scattercarpet\"}],\"scattergeo\":[{\"marker\":{\"colorbar\":{\"outlinewidth\":0,\"ticks\":\"\"}},\"type\":\"scattergeo\"}],\"scattergl\":[{\"marker\":{\"colorbar\":{\"outlinewidth\":0,\"ticks\":\"\"}},\"type\":\"scattergl\"}],\"scattermapbox\":[{\"marker\":{\"colorbar\":{\"outlinewidth\":0,\"ticks\":\"\"}},\"type\":\"scattermapbox\"}],\"scatterpolar\":[{\"marker\":{\"colorbar\":{\"outlinewidth\":0,\"ticks\":\"\"}},\"type\":\"scatterpolar\"}],\"scatterpolargl\":[{\"marker\":{\"colorbar\":{\"outlinewidth\":0,\"ticks\":\"\"}},\"type\":\"scatterpolargl\"}],\"scatterternary\":[{\"marker\":{\"colorbar\":{\"outlinewidth\":0,\"ticks\":\"\"}},\"type\":\"scatterternary\"}],\"surface\":[{\"colorbar\":{\"outlinewidth\":0,\"ticks\":\"\"},\"colorscale\":[[0.0,\"#0d0887\"],[0.1111111111111111,\"#46039f\"],[0.2222222222222222,\"#7201a8\"],[0.3333333333333333,\"#9c179e\"],[0.4444444444444444,\"#bd3786\"],[0.5555555555555556,\"#d8576b\"],[0.6666666666666666,\"#ed7953\"],[0.7777777777777778,\"#fb9f3a\"],[0.8888888888888888,\"#fdca26\"],[1.0,\"#f0f921\"]],\"type\":\"surface\"}],\"table\":[{\"cells\":{\"fill\":{\"color\":\"#EBF0F8\"},\"line\":{\"color\":\"white\"}},\"header\":{\"fill\":{\"color\":\"#C8D4E3\"},\"line\":{\"color\":\"white\"}},\"type\":\"table\"}]},\"layout\":{\"annotationdefaults\":{\"arrowcolor\":\"#2a3f5f\",\"arrowhead\":0,\"arrowwidth\":1},\"autotypenumbers\":\"strict\",\"coloraxis\":{\"colorbar\":{\"outlinewidth\":0,\"ticks\":\"\"}},\"colorscale\":{\"diverging\":[[0,\"#8e0152\"],[0.1,\"#c51b7d\"],[0.2,\"#de77ae\"],[0.3,\"#f1b6da\"],[0.4,\"#fde0ef\"],[0.5,\"#f7f7f7\"],[0.6,\"#e6f5d0\"],[0.7,\"#b8e186\"],[0.8,\"#7fbc41\"],[0.9,\"#4d9221\"],[1,\"#276419\"]],\"sequential\":[[0.0,\"#0d0887\"],[0.1111111111111111,\"#46039f\"],[0.2222222222222222,\"#7201a8\"],[0.3333333333333333,\"#9c179e\"],[0.4444444444444444,\"#bd3786\"],[0.5555555555555556,\"#d8576b\"],[0.6666666666666666,\"#ed7953\"],[0.7777777777777778,\"#fb9f3a\"],[0.8888888888888888,\"#fdca26\"],[1.0,\"#f0f921\"]],\"sequentialminus\":[[0.0,\"#0d0887\"],[0.1111111111111111,\"#46039f\"],[0.2222222222222222,\"#7201a8\"],[0.3333333333333333,\"#9c179e\"],[0.4444444444444444,\"#bd3786\"],[0.5555555555555556,\"#d8576b\"],[0.6666666666666666,\"#ed7953\"],[0.7777777777777778,\"#fb9f3a\"],[0.8888888888888888,\"#fdca26\"],[1.0,\"#f0f921\"]]},\"colorway\":[\"#636efa\",\"#EF553B\",\"#00cc96\",\"#ab63fa\",\"#FFA15A\",\"#19d3f3\",\"#FF6692\",\"#B6E880\",\"#FF97FF\",\"#FECB52\"],\"font\":{\"color\":\"#2a3f5f\"},\"geo\":{\"bgcolor\":\"white\",\"lakecolor\":\"white\",\"landcolor\":\"#E5ECF6\",\"showlakes\":true,\"showland\":true,\"subunitcolor\":\"white\"},\"hoverlabel\":{\"align\":\"left\"},\"hovermode\":\"closest\",\"mapbox\":{\"style\":\"light\"},\"paper_bgcolor\":\"white\",\"plot_bgcolor\":\"#E5ECF6\",\"polar\":{\"angularaxis\":{\"gridcolor\":\"white\",\"linecolor\":\"white\",\"ticks\":\"\"},\"bgcolor\":\"#E5ECF6\",\"radialaxis\":{\"gridcolor\":\"white\",\"linecolor\":\"white\",\"ticks\":\"\"}},\"scene\":{\"xaxis\":{\"backgroundcolor\":\"#E5ECF6\",\"gridcolor\":\"white\",\"gridwidth\":2,\"linecolor\":\"white\",\"showbackground\":true,\"ticks\":\"\",\"zerolinecolor\":\"white\"},\"yaxis\":{\"backgroundcolor\":\"#E5ECF6\",\"gridcolor\":\"white\",\"gridwidth\":2,\"linecolor\":\"white\",\"showbackground\":true,\"ticks\":\"\",\"zerolinecolor\":\"white\"},\"zaxis\":{\"backgroundcolor\":\"#E5ECF6\",\"gridcolor\":\"white\",\"gridwidth\":2,\"linecolor\":\"white\",\"showbackground\":true,\"ticks\":\"\",\"zerolinecolor\":\"white\"}},\"shapedefaults\":{\"line\":{\"color\":\"#2a3f5f\"}},\"ternary\":{\"aaxis\":{\"gridcolor\":\"white\",\"linecolor\":\"white\",\"ticks\":\"\"},\"baxis\":{\"gridcolor\":\"white\",\"linecolor\":\"white\",\"ticks\":\"\"},\"bgcolor\":\"#E5ECF6\",\"caxis\":{\"gridcolor\":\"white\",\"linecolor\":\"white\",\"ticks\":\"\"}},\"title\":{\"x\":0.05},\"xaxis\":{\"automargin\":true,\"gridcolor\":\"white\",\"linecolor\":\"white\",\"ticks\":\"\",\"title\":{\"standoff\":15},\"zerolinecolor\":\"white\",\"zerolinewidth\":2},\"yaxis\":{\"automargin\":true,\"gridcolor\":\"white\",\"linecolor\":\"white\",\"ticks\":\"\",\"title\":{\"standoff\":15},\"zerolinecolor\":\"white\",\"zerolinewidth\":2}}},\"xaxis\":{\"anchor\":\"y\",\"domain\":[0.0,1.0],\"title\":{\"text\":\"Rating\"}},\"yaxis\":{\"anchor\":\"x\",\"domain\":[0.0,1.0],\"title\":{\"text\":\"count\"}},\"legend\":{\"tracegroupgap\":0},\"margin\":{\"t\":60},\"barmode\":\"relative\"},                        {\"responsive\": true}                    ).then(function(){\n",
              "                            \n",
              "var gd = document.getElementById('ead03ad9-0c05-4146-939d-173655563028');\n",
              "var x = new MutationObserver(function (mutations, observer) {{\n",
              "        var display = window.getComputedStyle(gd).display;\n",
              "        if (!display || display === 'none') {{\n",
              "            console.log([gd, 'removed!']);\n",
              "            Plotly.purge(gd);\n",
              "            observer.disconnect();\n",
              "        }}\n",
              "}});\n",
              "\n",
              "// Listen for the removal of the full notebook cells\n",
              "var notebookContainer = gd.closest('#notebook-container');\n",
              "if (notebookContainer) {{\n",
              "    x.observe(notebookContainer, {childList: true});\n",
              "}}\n",
              "\n",
              "// Listen for the clearing of the current output cell\n",
              "var outputEl = gd.closest('.output');\n",
              "if (outputEl) {{\n",
              "    x.observe(outputEl, {childList: true});\n",
              "}}\n",
              "\n",
              "                        })                };                            </script>        </div>\n",
              "</body>\n",
              "</html>"
            ]
          },
          "metadata": {}
        }
      ]
    },
    {
      "cell_type": "code",
      "source": [
        "train['Rating'].value_counts()"
      ],
      "metadata": {
        "colab": {
          "base_uri": "https://localhost:8080/"
        },
        "id": "F18dpYCYMLET",
        "outputId": "3d1c07a3-286e-4710-92e8-689b836f2b49"
      },
      "execution_count": 73,
      "outputs": [
        {
          "output_type": "execute_result",
          "data": {
            "text/plain": [
              "86.0     465\n",
              "100.0    441\n",
              "71.0     327\n",
              "80.0     307\n",
              "60.0     172\n",
              "65.0     163\n",
              "57.0     144\n",
              "40.0      88\n",
              "20.0      88\n",
              "43.0      87\n",
              "29.0      69\n",
              "Name: Rating, dtype: int64"
            ]
          },
          "metadata": {},
          "execution_count": 73
        }
      ]
    },
    {
      "cell_type": "markdown",
      "source": [
        "Очень забавное, дискретное распределение оценок - ощущение, что такие отзывы были выбраны специально."
      ],
      "metadata": {
        "id": "ijQ7Of7eLN2f"
      }
    },
    {
      "cell_type": "markdown",
      "source": [
        "Перед тем, как заняться преобразованием текста, имеет смысл добавить новые признаки - кажется, что длина отзыва и медианная оценка конкретного отеля будут полезными признаками."
      ],
      "metadata": {
        "id": "lEmeFxzWNwEw"
      }
    },
    {
      "cell_type": "code",
      "source": [
        "import matplotlib.pyplot as plt\n"
      ],
      "metadata": {
        "id": "rmgWaYVzZqdP"
      },
      "execution_count": 74,
      "outputs": []
    },
    {
      "cell_type": "code",
      "source": [
        "len_review_column = train.apply(lambda x: len(x['Review_Text']), axis=1)"
      ],
      "metadata": {
        "id": "0GMdZJ5oRWB1"
      },
      "execution_count": 75,
      "outputs": []
    },
    {
      "cell_type": "code",
      "source": [
        "plt.hist(len_review_column)"
      ],
      "metadata": {
        "colab": {
          "base_uri": "https://localhost:8080/",
          "height": 334
        },
        "id": "_EbjDJElQIv2",
        "outputId": "0b334b0e-84b1-4013-8406-63c387959dea"
      },
      "execution_count": 76,
      "outputs": [
        {
          "output_type": "execute_result",
          "data": {
            "text/plain": [
              "(array([136., 239., 215., 174., 395., 437., 350., 191., 126.,  88.]),\n",
              " array([  1. ,  45.8,  90.6, 135.4, 180.2, 225. , 269.8, 314.6, 359.4,\n",
              "        404.2, 449. ]),\n",
              " <a list of 10 Patch objects>)"
            ]
          },
          "metadata": {},
          "execution_count": 76
        },
        {
          "output_type": "display_data",
          "data": {
            "text/plain": [
              "<Figure size 432x288 with 1 Axes>"
            ],
            "image/png": "[encoded data removed]"
          },
          "metadata": {
            "needs_background": "light"
          }
        }
      ]
    },
    {
      "cell_type": "code",
      "source": [
        "median_rating = train.apply(lambda x: train['Rating'][train['Hotel_name'] == x['Hotel_name']].median(), axis=1)"
      ],
      "metadata": {
        "id": "iCXqUiLYPX9j"
      },
      "execution_count": 78,
      "outputs": []
    },
    {
      "cell_type": "code",
      "source": [
        "median_rating"
      ],
      "metadata": {
        "colab": {
          "base_uri": "https://localhost:8080/"
        },
        "id": "lyBRf38uXQNC",
        "outputId": "3fee5a55-cab6-4650-f60d-eabfccc770f1"
      },
      "execution_count": 79,
      "outputs": [
        {
          "output_type": "execute_result",
          "data": {
            "text/plain": [
              "0        86.0\n",
              "1        86.0\n",
              "2        71.0\n",
              "3        86.0\n",
              "4        86.0\n",
              "        ...  \n",
              "2346    100.0\n",
              "2347     71.0\n",
              "2348     71.0\n",
              "2349     80.0\n",
              "2350     64.0\n",
              "Length: 2351, dtype: float64"
            ]
          },
          "metadata": {},
          "execution_count": 79
        }
      ]
    },
    {
      "cell_type": "markdown",
      "source": [
        "Приступаем к обработке текста."
      ],
      "metadata": {
        "id": "g7ZVs7vTXjxA"
      }
    },
    {
      "cell_type": "markdown",
      "source": [
        "Приведем все к одному регистру, засплитим, удалим пунктуацию, удалим часто используемые слова, навесим POS теги и, соответственно, проведем лемматизацию."
      ],
      "metadata": {
        "id": "Bg5uX2PToF__"
      }
    },
    {
      "cell_type": "code",
      "source": [
        "def get_wordnet_pos(pos_tag):\n",
        "    if pos_tag.startswith('J'):\n",
        "        return wordnet.ADJ\n",
        "    elif pos_tag.startswith('V'):\n",
        "        return wordnet.VERB\n",
        "    elif pos_tag.startswith('N'):\n",
        "        return wordnet.NOUN\n",
        "    elif pos_tag.startswith('R'):\n",
        "        return wordnet.ADV\n",
        "    else:\n",
        "        return wordnet.NOUN\n",
        "\n",
        "def clean_text(text):\n",
        "    text = text.lower()\n",
        "    text = [word.strip(string.punctuation) for word in text.split(\" \")]\n",
        "    text = [word for word in text if not any(c.isdigit() for c in word)]\n",
        "    stop = stopwords.words('english')\n",
        "    text = [x for x in text if x not in stop]\n",
        "    text = [t for t in text if len(t) > 0]\n",
        "    pos_tags = pos_tag(text)\n",
        "    text = [WordNetLemmatizer().lemmatize(t[0], get_wordnet_pos(t[1])) for t in pos_tags]\n",
        "    text = [t for t in text if len(t) > 1]\n",
        "    text = \" \".join(text)\n",
        "    return(text)\n",
        "\n",
        "\n",
        "train[\"review_clean\"] = train[\"Review_Text\"].apply(lambda x: clean_text(x))"
      ],
      "metadata": {
        "id": "x2LkRosmXClT"
      },
      "execution_count": 80,
      "outputs": []
    },
    {
      "cell_type": "code",
      "source": [
        ""
      ],
      "metadata": {
        "id": "5bXRD13nwnL6"
      },
      "execution_count": null,
      "outputs": []
    },
    {
      "cell_type": "code",
      "source": [
        "train"
      ],
      "metadata": {
        "colab": {
          "base_uri": "https://localhost:8080/",
          "height": 424
        },
        "id": "qT2laoS8QhjU",
        "outputId": "fc52c683-bcb5-4e3b-9742-401331cfa57e"
      },
      "execution_count": 81,
      "outputs": [
        {
          "output_type": "execute_result",
          "data": {
            "text/plain": [
              "        Id                      Hotel_name  \\\n",
              "0        0                      Park Hyatt   \n",
              "1        1                  Hilton Chennai   \n",
              "2        2               The Royal Regency   \n",
              "3        3                          Rivera   \n",
              "4        4                      Park Hyatt   \n",
              "...    ...                             ...   \n",
              "2346  2346           Hyatt Regency Chennai   \n",
              "2347  2347                   New Woodlands   \n",
              "2348  2348               Samudra Residency   \n",
              "2349  2349           The Residency Chennai   \n",
              "2350  2350  Cloud Nine Serviced Apartments   \n",
              "\n",
              "                                           Review_Title  \\\n",
              "0                                     Refuge in Chennai   \n",
              "1                                        Hilton Chennai   \n",
              "2     No worth the rating shown in websites. Pricing...   \n",
              "3                                             Good stay   \n",
              "4                                     Needs improvement   \n",
              "...                                                 ...   \n",
              "2346                                                NaN   \n",
              "2347                                       Homely villa   \n",
              "2348                  Nice accommodation and facilities   \n",
              "2349         The Residency Good Centrally located Hotel   \n",
              "2350                Homely stay with comfort and luxury   \n",
              "\n",
              "                                            Review_Text  Rating  \\\n",
              "0     Excellent room and exercise facility. All arou...    80.0   \n",
              "1     Very comfortable and felt safe. \\r\\nStaff were...   100.0   \n",
              "2     Not worth the rating shown. Service is not goo...    71.0   \n",
              "3     First of all nice & courteous staff, only one ...    86.0   \n",
              "4     Overall ambience of the hotel is very good. In...    86.0   \n",
              "...                                                 ...     ...   \n",
              "2346  Most impressive service by staff in all areas....    80.0   \n",
              "2347  New woodlands chennai which gave me a homely e...    71.0   \n",
              "2348  Awesome I liked the neatness and maintenance. ...   100.0   \n",
              "2349  The overall experience was good. However the w...    80.0   \n",
              "2350  Its a very cool and luxurious cottage to stay ...    71.0   \n",
              "\n",
              "                                           review_clean  \n",
              "0     excellent room exercise facility around atmosp...  \n",
              "1     comfortable felt safe \\r\\nstaff helpful respec...  \n",
              "2     worth rating show service good room well maint...  \n",
              "3     first nice courteous staff one con stay time c...  \n",
              "4     overall ambience hotel good room facility need...  \n",
              "...                                                 ...  \n",
              "2346  impressive service staff area good restaurant ...  \n",
              "2347  new woodland chennai give homely experience lu...  \n",
              "2348  awesome like neatness maintenance facility rea...  \n",
              "2349  overall experience good however wi-fi get disc...  \n",
              "2350  cool luxurious cottage stay family couple enjo...  \n",
              "\n",
              "[2351 rows x 6 columns]"
            ],
            "text/html": [
              "\n",
              "  <div id=\"df-aed8ea69-91ce-4fe1-8f85-94ed496115a2\">\n",
              "    <div class=\"colab-df-container\">\n",
              "      <div>\n",
              "<style scoped>\n",
              "    .dataframe tbody tr th:only-of-type {\n",
              "        vertical-align: middle;\n",
              "    }\n",
              "\n",
              "    .dataframe tbody tr th {\n",
              "        vertical-align: top;\n",
              "    }\n",
              "\n",
              "    .dataframe thead th {\n",
              "        text-align: right;\n",
              "    }\n",
              "</style>\n",
              "<table border=\"1\" class=\"dataframe\">\n",
              "  <thead>\n",
              "    <tr style=\"text-align: right;\">\n",
              "      <th></th>\n",
              "      <th>Id</th>\n",
              "      <th>Hotel_name</th>\n",
              "      <th>Review_Title</th>\n",
              "      <th>Review_Text</th>\n",
              "      <th>Rating</th>\n",
              "      <th>review_clean</th>\n",
              "    </tr>\n",
              "  </thead>\n",
              "  <tbody>\n",
              "    <tr>\n",
              "      <th>0</th>\n",
              "      <td>0</td>\n",
              "      <td>Park Hyatt</td>\n",
              "      <td>Refuge in Chennai</td>\n",
              "      <td>Excellent room and exercise facility. All arou...</td>\n",
              "      <td>80.0</td>\n",
              "      <td>excellent room exercise facility around atmosp...</td>\n",
              "    </tr>\n",
              "    <tr>\n",
              "      <th>1</th>\n",
              "      <td>1</td>\n",
              "      <td>Hilton Chennai</td>\n",
              "      <td>Hilton Chennai</td>\n",
              "      <td>Very comfortable and felt safe. \\r\\nStaff were...</td>\n",
              "      <td>100.0</td>\n",
              "      <td>comfortable felt safe \\r\\nstaff helpful respec...</td>\n",
              "    </tr>\n",
              "    <tr>\n",
              "      <th>2</th>\n",
              "      <td>2</td>\n",
              "      <td>The Royal Regency</td>\n",
              "      <td>No worth the rating shown in websites. Pricing...</td>\n",
              "      <td>Not worth the rating shown. Service is not goo...</td>\n",
              "      <td>71.0</td>\n",
              "      <td>worth rating show service good room well maint...</td>\n",
              "    </tr>\n",
              "    <tr>\n",
              "      <th>3</th>\n",
              "      <td>3</td>\n",
              "      <td>Rivera</td>\n",
              "      <td>Good stay</td>\n",
              "      <td>First of all nice &amp; courteous staff, only one ...</td>\n",
              "      <td>86.0</td>\n",
              "      <td>first nice courteous staff one con stay time c...</td>\n",
              "    </tr>\n",
              "    <tr>\n",
              "      <th>4</th>\n",
              "      <td>4</td>\n",
              "      <td>Park Hyatt</td>\n",
              "      <td>Needs improvement</td>\n",
              "      <td>Overall ambience of the hotel is very good. In...</td>\n",
              "      <td>86.0</td>\n",
              "      <td>overall ambience hotel good room facility need...</td>\n",
              "    </tr>\n",
              "    <tr>\n",
              "      <th>...</th>\n",
              "      <td>...</td>\n",
              "      <td>...</td>\n",
              "      <td>...</td>\n",
              "      <td>...</td>\n",
              "      <td>...</td>\n",
              "      <td>...</td>\n",
              "    </tr>\n",
              "    <tr>\n",
              "      <th>2346</th>\n",
              "      <td>2346</td>\n",
              "      <td>Hyatt Regency Chennai</td>\n",
              "      <td>NaN</td>\n",
              "      <td>Most impressive service by staff in all areas....</td>\n",
              "      <td>80.0</td>\n",
              "      <td>impressive service staff area good restaurant ...</td>\n",
              "    </tr>\n",
              "    <tr>\n",
              "      <th>2347</th>\n",
              "      <td>2347</td>\n",
              "      <td>New Woodlands</td>\n",
              "      <td>Homely villa</td>\n",
              "      <td>New woodlands chennai which gave me a homely e...</td>\n",
              "      <td>71.0</td>\n",
              "      <td>new woodland chennai give homely experience lu...</td>\n",
              "    </tr>\n",
              "    <tr>\n",
              "      <th>2348</th>\n",
              "      <td>2348</td>\n",
              "      <td>Samudra Residency</td>\n",
              "      <td>Nice accommodation and facilities</td>\n",
              "      <td>Awesome I liked the neatness and maintenance. ...</td>\n",
              "      <td>100.0</td>\n",
              "      <td>awesome like neatness maintenance facility rea...</td>\n",
              "    </tr>\n",
              "    <tr>\n",
              "      <th>2349</th>\n",
              "      <td>2349</td>\n",
              "      <td>The Residency Chennai</td>\n",
              "      <td>The Residency Good Centrally located Hotel</td>\n",
              "      <td>The overall experience was good. However the w...</td>\n",
              "      <td>80.0</td>\n",
              "      <td>overall experience good however wi-fi get disc...</td>\n",
              "    </tr>\n",
              "    <tr>\n",
              "      <th>2350</th>\n",
              "      <td>2350</td>\n",
              "      <td>Cloud Nine Serviced Apartments</td>\n",
              "      <td>Homely stay with comfort and luxury</td>\n",
              "      <td>Its a very cool and luxurious cottage to stay ...</td>\n",
              "      <td>71.0</td>\n",
              "      <td>cool luxurious cottage stay family couple enjo...</td>\n",
              "    </tr>\n",
              "  </tbody>\n",
              "</table>\n",
              "<p>2351 rows × 6 columns</p>\n",
              "</div>\n",
              "      <button class=\"colab-df-convert\" onclick=\"convertToInteractive('df-aed8ea69-91ce-4fe1-8f85-94ed496115a2')\"\n",
              "              title=\"Convert this dataframe to an interactive table.\"\n",
              "              style=\"display:none;\">\n",
              "        \n",
              "  <svg xmlns=\"http://www.w3.org/2000/svg\" height=\"24px\"viewBox=\"0 0 24 24\"\n",
              "       width=\"24px\">\n",
              "    <path d=\"M0 0h24v24H0V0z\" fill=\"none\"/>\n",
              "    <path d=\"M18.56 5.44l.94 2.06.94-2.06 2.06-.94-2.06-.94-.94-2.06-.94 2.06-2.06.94zm-11 1L8.5 8.5l.94-2.06 2.06-.94-2.06-.94L8.5 2.5l-.94 2.06-2.06.94zm10 10l.94 2.06.94-2.06 2.06-.94-2.06-.94-.94-2.06-.94 2.06-2.06.94z\"/><path d=\"M17.41 7.96l-1.37-1.37c-.4-.4-.92-.59-1.43-.59-.52 0-1.04.2-1.43.59L10.3 9.45l-7.72 7.72c-.78.78-.78 2.05 0 2.83L4 21.41c.39.39.9.59 1.41.59.51 0 1.02-.2 1.41-.59l7.78-7.78 2.81-2.81c.8-.78.8-2.07 0-2.86zM5.41 20L4 18.59l7.72-7.72 1.47 1.35L5.41 20z\"/>\n",
              "  </svg>\n",
              "      </button>\n",
              "      \n",
              "  <style>\n",
              "    .colab-df-container {\n",
              "      display:flex;\n",
              "      flex-wrap:wrap;\n",
              "      gap: 12px;\n",
              "    }\n",
              "\n",
              "    .colab-df-convert {\n",
              "      background-color: #E8F0FE;\n",
              "      border: none;\n",
              "      border-radius: 50%;\n",
              "      cursor: pointer;\n",
              "      display: none;\n",
              "      fill: #1967D2;\n",
              "      height: 32px;\n",
              "      padding: 0 0 0 0;\n",
              "      width: 32px;\n",
              "    }\n",
              "\n",
              "    .colab-df-convert:hover {\n",
              "      background-color: #E2EBFA;\n",
              "      box-shadow: 0px 1px 2px rgba(60, 64, 67, 0.3), 0px 1px 3px 1px rgba(60, 64, 67, 0.15);\n",
              "      fill: #174EA6;\n",
              "    }\n",
              "\n",
              "    [theme=dark] .colab-df-convert {\n",
              "      background-color: #3B4455;\n",
              "      fill: #D2E3FC;\n",
              "    }\n",
              "\n",
              "    [theme=dark] .colab-df-convert:hover {\n",
              "      background-color: #434B5C;\n",
              "      box-shadow: 0px 1px 3px 1px rgba(0, 0, 0, 0.15);\n",
              "      filter: drop-shadow(0px 1px 2px rgba(0, 0, 0, 0.3));\n",
              "      fill: #FFFFFF;\n",
              "    }\n",
              "  </style>\n",
              "\n",
              "      <script>\n",
              "        const buttonEl =\n",
              "          document.querySelector('#df-aed8ea69-91ce-4fe1-8f85-94ed496115a2 button.colab-df-convert');\n",
              "        buttonEl.style.display =\n",
              "          google.colab.kernel.accessAllowed ? 'block' : 'none';\n",
              "\n",
              "        async function convertToInteractive(key) {\n",
              "          const element = document.querySelector('#df-aed8ea69-91ce-4fe1-8f85-94ed496115a2');\n",
              "          const dataTable =\n",
              "            await google.colab.kernel.invokeFunction('convertToInteractive',\n",
              "                                                     [key], {});\n",
              "          if (!dataTable) return;\n",
              "\n",
              "          const docLinkHtml = 'Like what you see? Visit the ' +\n",
              "            '<a target=\"_blank\" href=https://colab.research.google.com/notebooks/data_table.ipynb>data table notebook</a>'\n",
              "            + ' to learn more about interactive tables.';\n",
              "          element.innerHTML = '';\n",
              "          dataTable['output_type'] = 'display_data';\n",
              "          await google.colab.output.renderOutput(dataTable, element);\n",
              "          const docLink = document.createElement('div');\n",
              "          docLink.innerHTML = docLinkHtml;\n",
              "          element.appendChild(docLink);\n",
              "        }\n",
              "      </script>\n",
              "    </div>\n",
              "  </div>\n",
              "  "
            ]
          },
          "metadata": {},
          "execution_count": 81
        }
      ]
    },
    {
      "cell_type": "markdown",
      "source": [
        "Так как возможных значений рейтинга всего 10, test части, откуда могут появиться новые значения рейтинга у нас нет, то буду рассматривать задачу как задачу классификации(в любом случае, она быстро переделывается в задачу регрессии)."
      ],
      "metadata": {
        "id": "WTShcd9ZT-sv"
      }
    },
    {
      "cell_type": "code",
      "source": [
        "train['Rating'] = train.apply(lambda x : int(x['Rating']), axis=1)"
      ],
      "metadata": {
        "id": "2ugtufyqQjrF"
      },
      "execution_count": 82,
      "outputs": []
    },
    {
      "cell_type": "code",
      "source": [
        "train"
      ],
      "metadata": {
        "colab": {
          "base_uri": "https://localhost:8080/",
          "height": 424
        },
        "id": "zE6J5EGrU46M",
        "outputId": "6286f190-d59a-4d2f-db2c-b9bf3e8b9d2a"
      },
      "execution_count": 83,
      "outputs": [
        {
          "output_type": "execute_result",
          "data": {
            "text/plain": [
              "        Id                      Hotel_name  \\\n",
              "0        0                      Park Hyatt   \n",
              "1        1                  Hilton Chennai   \n",
              "2        2               The Royal Regency   \n",
              "3        3                          Rivera   \n",
              "4        4                      Park Hyatt   \n",
              "...    ...                             ...   \n",
              "2346  2346           Hyatt Regency Chennai   \n",
              "2347  2347                   New Woodlands   \n",
              "2348  2348               Samudra Residency   \n",
              "2349  2349           The Residency Chennai   \n",
              "2350  2350  Cloud Nine Serviced Apartments   \n",
              "\n",
              "                                           Review_Title  \\\n",
              "0                                     Refuge in Chennai   \n",
              "1                                        Hilton Chennai   \n",
              "2     No worth the rating shown in websites. Pricing...   \n",
              "3                                             Good stay   \n",
              "4                                     Needs improvement   \n",
              "...                                                 ...   \n",
              "2346                                                NaN   \n",
              "2347                                       Homely villa   \n",
              "2348                  Nice accommodation and facilities   \n",
              "2349         The Residency Good Centrally located Hotel   \n",
              "2350                Homely stay with comfort and luxury   \n",
              "\n",
              "                                            Review_Text  Rating  \\\n",
              "0     Excellent room and exercise facility. All arou...      80   \n",
              "1     Very comfortable and felt safe. \\r\\nStaff were...     100   \n",
              "2     Not worth the rating shown. Service is not goo...      71   \n",
              "3     First of all nice & courteous staff, only one ...      86   \n",
              "4     Overall ambience of the hotel is very good. In...      86   \n",
              "...                                                 ...     ...   \n",
              "2346  Most impressive service by staff in all areas....      80   \n",
              "2347  New woodlands chennai which gave me a homely e...      71   \n",
              "2348  Awesome I liked the neatness and maintenance. ...     100   \n",
              "2349  The overall experience was good. However the w...      80   \n",
              "2350  Its a very cool and luxurious cottage to stay ...      71   \n",
              "\n",
              "                                           review_clean  \n",
              "0     excellent room exercise facility around atmosp...  \n",
              "1     comfortable felt safe \\r\\nstaff helpful respec...  \n",
              "2     worth rating show service good room well maint...  \n",
              "3     first nice courteous staff one con stay time c...  \n",
              "4     overall ambience hotel good room facility need...  \n",
              "...                                                 ...  \n",
              "2346  impressive service staff area good restaurant ...  \n",
              "2347  new woodland chennai give homely experience lu...  \n",
              "2348  awesome like neatness maintenance facility rea...  \n",
              "2349  overall experience good however wi-fi get disc...  \n",
              "2350  cool luxurious cottage stay family couple enjo...  \n",
              "\n",
              "[2351 rows x 6 columns]"
            ],
            "text/html": [
              "\n",
              "  <div id=\"df-4eaa6342-9310-4ba7-adf9-12a214a9db5d\">\n",
              "    <div class=\"colab-df-container\">\n",
              "      <div>\n",
              "<style scoped>\n",
              "    .dataframe tbody tr th:only-of-type {\n",
              "        vertical-align: middle;\n",
              "    }\n",
              "\n",
              "    .dataframe tbody tr th {\n",
              "        vertical-align: top;\n",
              "    }\n",
              "\n",
              "    .dataframe thead th {\n",
              "        text-align: right;\n",
              "    }\n",
              "</style>\n",
              "<table border=\"1\" class=\"dataframe\">\n",
              "  <thead>\n",
              "    <tr style=\"text-align: right;\">\n",
              "      <th></th>\n",
              "      <th>Id</th>\n",
              "      <th>Hotel_name</th>\n",
              "      <th>Review_Title</th>\n",
              "      <th>Review_Text</th>\n",
              "      <th>Rating</th>\n",
              "      <th>review_clean</th>\n",
              "    </tr>\n",
              "  </thead>\n",
              "  <tbody>\n",
              "    <tr>\n",
              "      <th>0</th>\n",
              "      <td>0</td>\n",
              "      <td>Park Hyatt</td>\n",
              "      <td>Refuge in Chennai</td>\n",
              "      <td>Excellent room and exercise facility. All arou...</td>\n",
              "      <td>80</td>\n",
              "      <td>excellent room exercise facility around atmosp...</td>\n",
              "    </tr>\n",
              "    <tr>\n",
              "      <th>1</th>\n",
              "      <td>1</td>\n",
              "      <td>Hilton Chennai</td>\n",
              "      <td>Hilton Chennai</td>\n",
              "      <td>Very comfortable and felt safe. \\r\\nStaff were...</td>\n",
              "      <td>100</td>\n",
              "      <td>comfortable felt safe \\r\\nstaff helpful respec...</td>\n",
              "    </tr>\n",
              "    <tr>\n",
              "      <th>2</th>\n",
              "      <td>2</td>\n",
              "      <td>The Royal Regency</td>\n",
              "      <td>No worth the rating shown in websites. Pricing...</td>\n",
              "      <td>Not worth the rating shown. Service is not goo...</td>\n",
              "      <td>71</td>\n",
              "      <td>worth rating show service good room well maint...</td>\n",
              "    </tr>\n",
              "    <tr>\n",
              "      <th>3</th>\n",
              "      <td>3</td>\n",
              "      <td>Rivera</td>\n",
              "      <td>Good stay</td>\n",
              "      <td>First of all nice &amp; courteous staff, only one ...</td>\n",
              "      <td>86</td>\n",
              "      <td>first nice courteous staff one con stay time c...</td>\n",
              "    </tr>\n",
              "    <tr>\n",
              "      <th>4</th>\n",
              "      <td>4</td>\n",
              "      <td>Park Hyatt</td>\n",
              "      <td>Needs improvement</td>\n",
              "      <td>Overall ambience of the hotel is very good. In...</td>\n",
              "      <td>86</td>\n",
              "      <td>overall ambience hotel good room facility need...</td>\n",
              "    </tr>\n",
              "    <tr>\n",
              "      <th>...</th>\n",
              "      <td>...</td>\n",
              "      <td>...</td>\n",
              "      <td>...</td>\n",
              "      <td>...</td>\n",
              "      <td>...</td>\n",
              "      <td>...</td>\n",
              "    </tr>\n",
              "    <tr>\n",
              "      <th>2346</th>\n",
              "      <td>2346</td>\n",
              "      <td>Hyatt Regency Chennai</td>\n",
              "      <td>NaN</td>\n",
              "      <td>Most impressive service by staff in all areas....</td>\n",
              "      <td>80</td>\n",
              "      <td>impressive service staff area good restaurant ...</td>\n",
              "    </tr>\n",
              "    <tr>\n",
              "      <th>2347</th>\n",
              "      <td>2347</td>\n",
              "      <td>New Woodlands</td>\n",
              "      <td>Homely villa</td>\n",
              "      <td>New woodlands chennai which gave me a homely e...</td>\n",
              "      <td>71</td>\n",
              "      <td>new woodland chennai give homely experience lu...</td>\n",
              "    </tr>\n",
              "    <tr>\n",
              "      <th>2348</th>\n",
              "      <td>2348</td>\n",
              "      <td>Samudra Residency</td>\n",
              "      <td>Nice accommodation and facilities</td>\n",
              "      <td>Awesome I liked the neatness and maintenance. ...</td>\n",
              "      <td>100</td>\n",
              "      <td>awesome like neatness maintenance facility rea...</td>\n",
              "    </tr>\n",
              "    <tr>\n",
              "      <th>2349</th>\n",
              "      <td>2349</td>\n",
              "      <td>The Residency Chennai</td>\n",
              "      <td>The Residency Good Centrally located Hotel</td>\n",
              "      <td>The overall experience was good. However the w...</td>\n",
              "      <td>80</td>\n",
              "      <td>overall experience good however wi-fi get disc...</td>\n",
              "    </tr>\n",
              "    <tr>\n",
              "      <th>2350</th>\n",
              "      <td>2350</td>\n",
              "      <td>Cloud Nine Serviced Apartments</td>\n",
              "      <td>Homely stay with comfort and luxury</td>\n",
              "      <td>Its a very cool and luxurious cottage to stay ...</td>\n",
              "      <td>71</td>\n",
              "      <td>cool luxurious cottage stay family couple enjo...</td>\n",
              "    </tr>\n",
              "  </tbody>\n",
              "</table>\n",
              "<p>2351 rows × 6 columns</p>\n",
              "</div>\n",
              "      <button class=\"colab-df-convert\" onclick=\"convertToInteractive('df-4eaa6342-9310-4ba7-adf9-12a214a9db5d')\"\n",
              "              title=\"Convert this dataframe to an interactive table.\"\n",
              "              style=\"display:none;\">\n",
              "        \n",
              "  <svg xmlns=\"http://www.w3.org/2000/svg\" height=\"24px\"viewBox=\"0 0 24 24\"\n",
              "       width=\"24px\">\n",
              "    <path d=\"M0 0h24v24H0V0z\" fill=\"none\"/>\n",
              "    <path d=\"M18.56 5.44l.94 2.06.94-2.06 2.06-.94-2.06-.94-.94-2.06-.94 2.06-2.06.94zm-11 1L8.5 8.5l.94-2.06 2.06-.94-2.06-.94L8.5 2.5l-.94 2.06-2.06.94zm10 10l.94 2.06.94-2.06 2.06-.94-2.06-.94-.94-2.06-.94 2.06-2.06.94z\"/><path d=\"M17.41 7.96l-1.37-1.37c-.4-.4-.92-.59-1.43-.59-.52 0-1.04.2-1.43.59L10.3 9.45l-7.72 7.72c-.78.78-.78 2.05 0 2.83L4 21.41c.39.39.9.59 1.41.59.51 0 1.02-.2 1.41-.59l7.78-7.78 2.81-2.81c.8-.78.8-2.07 0-2.86zM5.41 20L4 18.59l7.72-7.72 1.47 1.35L5.41 20z\"/>\n",
              "  </svg>\n",
              "      </button>\n",
              "      \n",
              "  <style>\n",
              "    .colab-df-container {\n",
              "      display:flex;\n",
              "      flex-wrap:wrap;\n",
              "      gap: 12px;\n",
              "    }\n",
              "\n",
              "    .colab-df-convert {\n",
              "      background-color: #E8F0FE;\n",
              "      border: none;\n",
              "      border-radius: 50%;\n",
              "      cursor: pointer;\n",
              "      display: none;\n",
              "      fill: #1967D2;\n",
              "      height: 32px;\n",
              "      padding: 0 0 0 0;\n",
              "      width: 32px;\n",
              "    }\n",
              "\n",
              "    .colab-df-convert:hover {\n",
              "      background-color: #E2EBFA;\n",
              "      box-shadow: 0px 1px 2px rgba(60, 64, 67, 0.3), 0px 1px 3px 1px rgba(60, 64, 67, 0.15);\n",
              "      fill: #174EA6;\n",
              "    }\n",
              "\n",
              "    [theme=dark] .colab-df-convert {\n",
              "      background-color: #3B4455;\n",
              "      fill: #D2E3FC;\n",
              "    }\n",
              "\n",
              "    [theme=dark] .colab-df-convert:hover {\n",
              "      background-color: #434B5C;\n",
              "      box-shadow: 0px 1px 3px 1px rgba(0, 0, 0, 0.15);\n",
              "      filter: drop-shadow(0px 1px 2px rgba(0, 0, 0, 0.3));\n",
              "      fill: #FFFFFF;\n",
              "    }\n",
              "  </style>\n",
              "\n",
              "      <script>\n",
              "        const buttonEl =\n",
              "          document.querySelector('#df-4eaa6342-9310-4ba7-adf9-12a214a9db5d button.colab-df-convert');\n",
              "        buttonEl.style.display =\n",
              "          google.colab.kernel.accessAllowed ? 'block' : 'none';\n",
              "\n",
              "        async function convertToInteractive(key) {\n",
              "          const element = document.querySelector('#df-4eaa6342-9310-4ba7-adf9-12a214a9db5d');\n",
              "          const dataTable =\n",
              "            await google.colab.kernel.invokeFunction('convertToInteractive',\n",
              "                                                     [key], {});\n",
              "          if (!dataTable) return;\n",
              "\n",
              "          const docLinkHtml = 'Like what you see? Visit the ' +\n",
              "            '<a target=\"_blank\" href=https://colab.research.google.com/notebooks/data_table.ipynb>data table notebook</a>'\n",
              "            + ' to learn more about interactive tables.';\n",
              "          element.innerHTML = '';\n",
              "          dataTable['output_type'] = 'display_data';\n",
              "          await google.colab.output.renderOutput(dataTable, element);\n",
              "          const docLink = document.createElement('div');\n",
              "          docLink.innerHTML = docLinkHtml;\n",
              "          element.appendChild(docLink);\n",
              "        }\n",
              "      </script>\n",
              "    </div>\n",
              "  </div>\n",
              "  "
            ]
          },
          "metadata": {},
          "execution_count": 83
        }
      ]
    },
    {
      "cell_type": "markdown",
      "source": [
        "Добавим признаки, которые создали сами:"
      ],
      "metadata": {
        "id": "0tJk8WjKeZgN"
      }
    },
    {
      "cell_type": "code",
      "source": [
        "train['len_review'] = len_review_column\n",
        "train['median_rating'] = median_rating"
      ],
      "metadata": {
        "id": "pW2k5rhdeVqg"
      },
      "execution_count": 84,
      "outputs": []
    },
    {
      "cell_type": "code",
      "source": [
        "train"
      ],
      "metadata": {
        "colab": {
          "base_uri": "https://localhost:8080/",
          "height": 424
        },
        "id": "lTdPFubMfHgk",
        "outputId": "c53087f9-970a-4df2-f347-5530ef0093c3"
      },
      "execution_count": 85,
      "outputs": [
        {
          "output_type": "execute_result",
          "data": {
            "text/plain": [
              "        Id                      Hotel_name  \\\n",
              "0        0                      Park Hyatt   \n",
              "1        1                  Hilton Chennai   \n",
              "2        2               The Royal Regency   \n",
              "3        3                          Rivera   \n",
              "4        4                      Park Hyatt   \n",
              "...    ...                             ...   \n",
              "2346  2346           Hyatt Regency Chennai   \n",
              "2347  2347                   New Woodlands   \n",
              "2348  2348               Samudra Residency   \n",
              "2349  2349           The Residency Chennai   \n",
              "2350  2350  Cloud Nine Serviced Apartments   \n",
              "\n",
              "                                           Review_Title  \\\n",
              "0                                     Refuge in Chennai   \n",
              "1                                        Hilton Chennai   \n",
              "2     No worth the rating shown in websites. Pricing...   \n",
              "3                                             Good stay   \n",
              "4                                     Needs improvement   \n",
              "...                                                 ...   \n",
              "2346                                                NaN   \n",
              "2347                                       Homely villa   \n",
              "2348                  Nice accommodation and facilities   \n",
              "2349         The Residency Good Centrally located Hotel   \n",
              "2350                Homely stay with comfort and luxury   \n",
              "\n",
              "                                            Review_Text  Rating  \\\n",
              "0     Excellent room and exercise facility. All arou...      80   \n",
              "1     Very comfortable and felt safe. \\r\\nStaff were...     100   \n",
              "2     Not worth the rating shown. Service is not goo...      71   \n",
              "3     First of all nice & courteous staff, only one ...      86   \n",
              "4     Overall ambience of the hotel is very good. In...      86   \n",
              "...                                                 ...     ...   \n",
              "2346  Most impressive service by staff in all areas....      80   \n",
              "2347  New woodlands chennai which gave me a homely e...      71   \n",
              "2348  Awesome I liked the neatness and maintenance. ...     100   \n",
              "2349  The overall experience was good. However the w...      80   \n",
              "2350  Its a very cool and luxurious cottage to stay ...      71   \n",
              "\n",
              "                                           review_clean  len_review  \\\n",
              "0     excellent room exercise facility around atmosp...         207   \n",
              "1     comfortable felt safe \\r\\nstaff helpful respec...         171   \n",
              "2     worth rating show service good room well maint...         254   \n",
              "3     first nice courteous staff one con stay time c...         225   \n",
              "4     overall ambience hotel good room facility need...         250   \n",
              "...                                                 ...         ...   \n",
              "2346  impressive service staff area good restaurant ...         354   \n",
              "2347  new woodland chennai give homely experience lu...         381   \n",
              "2348  awesome like neatness maintenance facility rea...         212   \n",
              "2349  overall experience good however wi-fi get disc...         116   \n",
              "2350  cool luxurious cottage stay family couple enjo...         323   \n",
              "\n",
              "      median_rating  \n",
              "0              86.0  \n",
              "1              86.0  \n",
              "2              71.0  \n",
              "3              86.0  \n",
              "4              86.0  \n",
              "...             ...  \n",
              "2346          100.0  \n",
              "2347           71.0  \n",
              "2348           71.0  \n",
              "2349           80.0  \n",
              "2350           64.0  \n",
              "\n",
              "[2351 rows x 8 columns]"
            ],
            "text/html": [
              "\n",
              "  <div id=\"df-71f248cf-ed33-4c28-8cf0-8add73e188ec\">\n",
              "    <div class=\"colab-df-container\">\n",
              "      <div>\n",
              "<style scoped>\n",
              "    .dataframe tbody tr th:only-of-type {\n",
              "        vertical-align: middle;\n",
              "    }\n",
              "\n",
              "    .dataframe tbody tr th {\n",
              "        vertical-align: top;\n",
              "    }\n",
              "\n",
              "    .dataframe thead th {\n",
              "        text-align: right;\n",
              "    }\n",
              "</style>\n",
              "<table border=\"1\" class=\"dataframe\">\n",
              "  <thead>\n",
              "    <tr style=\"text-align: right;\">\n",
              "      <th></th>\n",
              "      <th>Id</th>\n",
              "      <th>Hotel_name</th>\n",
              "      <th>Review_Title</th>\n",
              "      <th>Review_Text</th>\n",
              "      <th>Rating</th>\n",
              "      <th>review_clean</th>\n",
              "      <th>len_review</th>\n",
              "      <th>median_rating</th>\n",
              "    </tr>\n",
              "  </thead>\n",
              "  <tbody>\n",
              "    <tr>\n",
              "      <th>0</th>\n",
              "      <td>0</td>\n",
              "      <td>Park Hyatt</td>\n",
              "      <td>Refuge in Chennai</td>\n",
              "      <td>Excellent room and exercise facility. All arou...</td>\n",
              "      <td>80</td>\n",
              "      <td>excellent room exercise facility around atmosp...</td>\n",
              "      <td>207</td>\n",
              "      <td>86.0</td>\n",
              "    </tr>\n",
              "    <tr>\n",
              "      <th>1</th>\n",
              "      <td>1</td>\n",
              "      <td>Hilton Chennai</td>\n",
              "      <td>Hilton Chennai</td>\n",
              "      <td>Very comfortable and felt safe. \\r\\nStaff were...</td>\n",
              "      <td>100</td>\n",
              "      <td>comfortable felt safe \\r\\nstaff helpful respec...</td>\n",
              "      <td>171</td>\n",
              "      <td>86.0</td>\n",
              "    </tr>\n",
              "    <tr>\n",
              "      <th>2</th>\n",
              "      <td>2</td>\n",
              "      <td>The Royal Regency</td>\n",
              "      <td>No worth the rating shown in websites. Pricing...</td>\n",
              "      <td>Not worth the rating shown. Service is not goo...</td>\n",
              "      <td>71</td>\n",
              "      <td>worth rating show service good room well maint...</td>\n",
              "      <td>254</td>\n",
              "      <td>71.0</td>\n",
              "    </tr>\n",
              "    <tr>\n",
              "      <th>3</th>\n",
              "      <td>3</td>\n",
              "      <td>Rivera</td>\n",
              "      <td>Good stay</td>\n",
              "      <td>First of all nice &amp; courteous staff, only one ...</td>\n",
              "      <td>86</td>\n",
              "      <td>first nice courteous staff one con stay time c...</td>\n",
              "      <td>225</td>\n",
              "      <td>86.0</td>\n",
              "    </tr>\n",
              "    <tr>\n",
              "      <th>4</th>\n",
              "      <td>4</td>\n",
              "      <td>Park Hyatt</td>\n",
              "      <td>Needs improvement</td>\n",
              "      <td>Overall ambience of the hotel is very good. In...</td>\n",
              "      <td>86</td>\n",
              "      <td>overall ambience hotel good room facility need...</td>\n",
              "      <td>250</td>\n",
              "      <td>86.0</td>\n",
              "    </tr>\n",
              "    <tr>\n",
              "      <th>...</th>\n",
              "      <td>...</td>\n",
              "      <td>...</td>\n",
              "      <td>...</td>\n",
              "      <td>...</td>\n",
              "      <td>...</td>\n",
              "      <td>...</td>\n",
              "      <td>...</td>\n",
              "      <td>...</td>\n",
              "    </tr>\n",
              "    <tr>\n",
              "      <th>2346</th>\n",
              "      <td>2346</td>\n",
              "      <td>Hyatt Regency Chennai</td>\n",
              "      <td>NaN</td>\n",
              "      <td>Most impressive service by staff in all areas....</td>\n",
              "      <td>80</td>\n",
              "      <td>impressive service staff area good restaurant ...</td>\n",
              "      <td>354</td>\n",
              "      <td>100.0</td>\n",
              "    </tr>\n",
              "    <tr>\n",
              "      <th>2347</th>\n",
              "      <td>2347</td>\n",
              "      <td>New Woodlands</td>\n",
              "      <td>Homely villa</td>\n",
              "      <td>New woodlands chennai which gave me a homely e...</td>\n",
              "      <td>71</td>\n",
              "      <td>new woodland chennai give homely experience lu...</td>\n",
              "      <td>381</td>\n",
              "      <td>71.0</td>\n",
              "    </tr>\n",
              "    <tr>\n",
              "      <th>2348</th>\n",
              "      <td>2348</td>\n",
              "      <td>Samudra Residency</td>\n",
              "      <td>Nice accommodation and facilities</td>\n",
              "      <td>Awesome I liked the neatness and maintenance. ...</td>\n",
              "      <td>100</td>\n",
              "      <td>awesome like neatness maintenance facility rea...</td>\n",
              "      <td>212</td>\n",
              "      <td>71.0</td>\n",
              "    </tr>\n",
              "    <tr>\n",
              "      <th>2349</th>\n",
              "      <td>2349</td>\n",
              "      <td>The Residency Chennai</td>\n",
              "      <td>The Residency Good Centrally located Hotel</td>\n",
              "      <td>The overall experience was good. However the w...</td>\n",
              "      <td>80</td>\n",
              "      <td>overall experience good however wi-fi get disc...</td>\n",
              "      <td>116</td>\n",
              "      <td>80.0</td>\n",
              "    </tr>\n",
              "    <tr>\n",
              "      <th>2350</th>\n",
              "      <td>2350</td>\n",
              "      <td>Cloud Nine Serviced Apartments</td>\n",
              "      <td>Homely stay with comfort and luxury</td>\n",
              "      <td>Its a very cool and luxurious cottage to stay ...</td>\n",
              "      <td>71</td>\n",
              "      <td>cool luxurious cottage stay family couple enjo...</td>\n",
              "      <td>323</td>\n",
              "      <td>64.0</td>\n",
              "    </tr>\n",
              "  </tbody>\n",
              "</table>\n",
              "<p>2351 rows × 8 columns</p>\n",
              "</div>\n",
              "      <button class=\"colab-df-convert\" onclick=\"convertToInteractive('df-71f248cf-ed33-4c28-8cf0-8add73e188ec')\"\n",
              "              title=\"Convert this dataframe to an interactive table.\"\n",
              "              style=\"display:none;\">\n",
              "        \n",
              "  <svg xmlns=\"http://www.w3.org/2000/svg\" height=\"24px\"viewBox=\"0 0 24 24\"\n",
              "       width=\"24px\">\n",
              "    <path d=\"M0 0h24v24H0V0z\" fill=\"none\"/>\n",
              "    <path d=\"M18.56 5.44l.94 2.06.94-2.06 2.06-.94-2.06-.94-.94-2.06-.94 2.06-2.06.94zm-11 1L8.5 8.5l.94-2.06 2.06-.94-2.06-.94L8.5 2.5l-.94 2.06-2.06.94zm10 10l.94 2.06.94-2.06 2.06-.94-2.06-.94-.94-2.06-.94 2.06-2.06.94z\"/><path d=\"M17.41 7.96l-1.37-1.37c-.4-.4-.92-.59-1.43-.59-.52 0-1.04.2-1.43.59L10.3 9.45l-7.72 7.72c-.78.78-.78 2.05 0 2.83L4 21.41c.39.39.9.59 1.41.59.51 0 1.02-.2 1.41-.59l7.78-7.78 2.81-2.81c.8-.78.8-2.07 0-2.86zM5.41 20L4 18.59l7.72-7.72 1.47 1.35L5.41 20z\"/>\n",
              "  </svg>\n",
              "      </button>\n",
              "      \n",
              "  <style>\n",
              "    .colab-df-container {\n",
              "      display:flex;\n",
              "      flex-wrap:wrap;\n",
              "      gap: 12px;\n",
              "    }\n",
              "\n",
              "    .colab-df-convert {\n",
              "      background-color: #E8F0FE;\n",
              "      border: none;\n",
              "      border-radius: 50%;\n",
              "      cursor: pointer;\n",
              "      display: none;\n",
              "      fill: #1967D2;\n",
              "      height: 32px;\n",
              "      padding: 0 0 0 0;\n",
              "      width: 32px;\n",
              "    }\n",
              "\n",
              "    .colab-df-convert:hover {\n",
              "      background-color: #E2EBFA;\n",
              "      box-shadow: 0px 1px 2px rgba(60, 64, 67, 0.3), 0px 1px 3px 1px rgba(60, 64, 67, 0.15);\n",
              "      fill: #174EA6;\n",
              "    }\n",
              "\n",
              "    [theme=dark] .colab-df-convert {\n",
              "      background-color: #3B4455;\n",
              "      fill: #D2E3FC;\n",
              "    }\n",
              "\n",
              "    [theme=dark] .colab-df-convert:hover {\n",
              "      background-color: #434B5C;\n",
              "      box-shadow: 0px 1px 3px 1px rgba(0, 0, 0, 0.15);\n",
              "      filter: drop-shadow(0px 1px 2px rgba(0, 0, 0, 0.3));\n",
              "      fill: #FFFFFF;\n",
              "    }\n",
              "  </style>\n",
              "\n",
              "      <script>\n",
              "        const buttonEl =\n",
              "          document.querySelector('#df-71f248cf-ed33-4c28-8cf0-8add73e188ec button.colab-df-convert');\n",
              "        buttonEl.style.display =\n",
              "          google.colab.kernel.accessAllowed ? 'block' : 'none';\n",
              "\n",
              "        async function convertToInteractive(key) {\n",
              "          const element = document.querySelector('#df-71f248cf-ed33-4c28-8cf0-8add73e188ec');\n",
              "          const dataTable =\n",
              "            await google.colab.kernel.invokeFunction('convertToInteractive',\n",
              "                                                     [key], {});\n",
              "          if (!dataTable) return;\n",
              "\n",
              "          const docLinkHtml = 'Like what you see? Visit the ' +\n",
              "            '<a target=\"_blank\" href=https://colab.research.google.com/notebooks/data_table.ipynb>data table notebook</a>'\n",
              "            + ' to learn more about interactive tables.';\n",
              "          element.innerHTML = '';\n",
              "          dataTable['output_type'] = 'display_data';\n",
              "          await google.colab.output.renderOutput(dataTable, element);\n",
              "          const docLink = document.createElement('div');\n",
              "          docLink.innerHTML = docLinkHtml;\n",
              "          element.appendChild(docLink);\n",
              "        }\n",
              "      </script>\n",
              "    </div>\n",
              "  </div>\n",
              "  "
            ]
          },
          "metadata": {},
          "execution_count": 85
        }
      ]
    },
    {
      "cell_type": "markdown",
      "source": [
        "Создадим test и train части:"
      ],
      "metadata": {
        "id": "Gi1TTMC2VbP_"
      }
    },
    {
      "cell_type": "code",
      "source": [
        "X_train, X_test, y_train, y_test = train_test_split(train[['review_clean', 'Rating', 'len_review', 'median_rating']], train['Rating'], test_size= 1/4, random_state=42)"
      ],
      "metadata": {
        "id": "Yyi_GVFIVLsx"
      },
      "execution_count": 86,
      "outputs": []
    },
    {
      "cell_type": "code",
      "source": [
        "X_train"
      ],
      "metadata": {
        "colab": {
          "base_uri": "https://localhost:8080/",
          "height": 424
        },
        "id": "lBsmOdb5fbVD",
        "outputId": "cf413209-59e0-4ae0-b9d5-92385abbea54"
      },
      "execution_count": 87,
      "outputs": [
        {
          "output_type": "execute_result",
          "data": {
            "text/plain": [
              "                                           review_clean  Rating  len_review  \\\n",
              "1547  arrive late night thailand look forward drink ...      80         302   \n",
              "1917  notice many change hotel check process smooth ...      86         352   \n",
              "543   many mosquito late check warm room fridge work...      20         449   \n",
              "1535  stay hotel comfortable transport easily available      60          60   \n",
              "494   stay good overall stay three day location good...      86         269   \n",
              "...                                                 ...     ...         ...   \n",
              "1638  room look like old small poorly maintain found...      71         309   \n",
              "1095  great experience really good hotel professiona...     100         153   \n",
              "1130  hotel locate within km chennai central station...      57         241   \n",
              "1294  room old poor value money food start minimum p...      29         254   \n",
              "860   reach hotel find share common entrance crowd r...      20         442   \n",
              "\n",
              "      median_rating  \n",
              "1547           80.0  \n",
              "1917           86.0  \n",
              "543            65.0  \n",
              "1535           60.0  \n",
              "494            57.0  \n",
              "...             ...  \n",
              "1638           71.0  \n",
              "1095          100.0  \n",
              "1130           71.0  \n",
              "1294           65.0  \n",
              "860            50.0  \n",
              "\n",
              "[1763 rows x 4 columns]"
            ],
            "text/html": [
              "\n",
              "  <div id=\"df-56827709-d7b5-48f5-aa39-16ba34405099\">\n",
              "    <div class=\"colab-df-container\">\n",
              "      <div>\n",
              "<style scoped>\n",
              "    .dataframe tbody tr th:only-of-type {\n",
              "        vertical-align: middle;\n",
              "    }\n",
              "\n",
              "    .dataframe tbody tr th {\n",
              "        vertical-align: top;\n",
              "    }\n",
              "\n",
              "    .dataframe thead th {\n",
              "        text-align: right;\n",
              "    }\n",
              "</style>\n",
              "<table border=\"1\" class=\"dataframe\">\n",
              "  <thead>\n",
              "    <tr style=\"text-align: right;\">\n",
              "      <th></th>\n",
              "      <th>review_clean</th>\n",
              "      <th>Rating</th>\n",
              "      <th>len_review</th>\n",
              "      <th>median_rating</th>\n",
              "    </tr>\n",
              "  </thead>\n",
              "  <tbody>\n",
              "    <tr>\n",
              "      <th>1547</th>\n",
              "      <td>arrive late night thailand look forward drink ...</td>\n",
              "      <td>80</td>\n",
              "      <td>302</td>\n",
              "      <td>80.0</td>\n",
              "    </tr>\n",
              "    <tr>\n",
              "      <th>1917</th>\n",
              "      <td>notice many change hotel check process smooth ...</td>\n",
              "      <td>86</td>\n",
              "      <td>352</td>\n",
              "      <td>86.0</td>\n",
              "    </tr>\n",
              "    <tr>\n",
              "      <th>543</th>\n",
              "      <td>many mosquito late check warm room fridge work...</td>\n",
              "      <td>20</td>\n",
              "      <td>449</td>\n",
              "      <td>65.0</td>\n",
              "    </tr>\n",
              "    <tr>\n",
              "      <th>1535</th>\n",
              "      <td>stay hotel comfortable transport easily available</td>\n",
              "      <td>60</td>\n",
              "      <td>60</td>\n",
              "      <td>60.0</td>\n",
              "    </tr>\n",
              "    <tr>\n",
              "      <th>494</th>\n",
              "      <td>stay good overall stay three day location good...</td>\n",
              "      <td>86</td>\n",
              "      <td>269</td>\n",
              "      <td>57.0</td>\n",
              "    </tr>\n",
              "    <tr>\n",
              "      <th>...</th>\n",
              "      <td>...</td>\n",
              "      <td>...</td>\n",
              "      <td>...</td>\n",
              "      <td>...</td>\n",
              "    </tr>\n",
              "    <tr>\n",
              "      <th>1638</th>\n",
              "      <td>room look like old small poorly maintain found...</td>\n",
              "      <td>71</td>\n",
              "      <td>309</td>\n",
              "      <td>71.0</td>\n",
              "    </tr>\n",
              "    <tr>\n",
              "      <th>1095</th>\n",
              "      <td>great experience really good hotel professiona...</td>\n",
              "      <td>100</td>\n",
              "      <td>153</td>\n",
              "      <td>100.0</td>\n",
              "    </tr>\n",
              "    <tr>\n",
              "      <th>1130</th>\n",
              "      <td>hotel locate within km chennai central station...</td>\n",
              "      <td>57</td>\n",
              "      <td>241</td>\n",
              "      <td>71.0</td>\n",
              "    </tr>\n",
              "    <tr>\n",
              "      <th>1294</th>\n",
              "      <td>room old poor value money food start minimum p...</td>\n",
              "      <td>29</td>\n",
              "      <td>254</td>\n",
              "      <td>65.0</td>\n",
              "    </tr>\n",
              "    <tr>\n",
              "      <th>860</th>\n",
              "      <td>reach hotel find share common entrance crowd r...</td>\n",
              "      <td>20</td>\n",
              "      <td>442</td>\n",
              "      <td>50.0</td>\n",
              "    </tr>\n",
              "  </tbody>\n",
              "</table>\n",
              "<p>1763 rows × 4 columns</p>\n",
              "</div>\n",
              "      <button class=\"colab-df-convert\" onclick=\"convertToInteractive('df-56827709-d7b5-48f5-aa39-16ba34405099')\"\n",
              "              title=\"Convert this dataframe to an interactive table.\"\n",
              "              style=\"display:none;\">\n",
              "        \n",
              "  <svg xmlns=\"http://www.w3.org/2000/svg\" height=\"24px\"viewBox=\"0 0 24 24\"\n",
              "       width=\"24px\">\n",
              "    <path d=\"M0 0h24v24H0V0z\" fill=\"none\"/>\n",
              "    <path d=\"M18.56 5.44l.94 2.06.94-2.06 2.06-.94-2.06-.94-.94-2.06-.94 2.06-2.06.94zm-11 1L8.5 8.5l.94-2.06 2.06-.94-2.06-.94L8.5 2.5l-.94 2.06-2.06.94zm10 10l.94 2.06.94-2.06 2.06-.94-2.06-.94-.94-2.06-.94 2.06-2.06.94z\"/><path d=\"M17.41 7.96l-1.37-1.37c-.4-.4-.92-.59-1.43-.59-.52 0-1.04.2-1.43.59L10.3 9.45l-7.72 7.72c-.78.78-.78 2.05 0 2.83L4 21.41c.39.39.9.59 1.41.59.51 0 1.02-.2 1.41-.59l7.78-7.78 2.81-2.81c.8-.78.8-2.07 0-2.86zM5.41 20L4 18.59l7.72-7.72 1.47 1.35L5.41 20z\"/>\n",
              "  </svg>\n",
              "      </button>\n",
              "      \n",
              "  <style>\n",
              "    .colab-df-container {\n",
              "      display:flex;\n",
              "      flex-wrap:wrap;\n",
              "      gap: 12px;\n",
              "    }\n",
              "\n",
              "    .colab-df-convert {\n",
              "      background-color: #E8F0FE;\n",
              "      border: none;\n",
              "      border-radius: 50%;\n",
              "      cursor: pointer;\n",
              "      display: none;\n",
              "      fill: #1967D2;\n",
              "      height: 32px;\n",
              "      padding: 0 0 0 0;\n",
              "      width: 32px;\n",
              "    }\n",
              "\n",
              "    .colab-df-convert:hover {\n",
              "      background-color: #E2EBFA;\n",
              "      box-shadow: 0px 1px 2px rgba(60, 64, 67, 0.3), 0px 1px 3px 1px rgba(60, 64, 67, 0.15);\n",
              "      fill: #174EA6;\n",
              "    }\n",
              "\n",
              "    [theme=dark] .colab-df-convert {\n",
              "      background-color: #3B4455;\n",
              "      fill: #D2E3FC;\n",
              "    }\n",
              "\n",
              "    [theme=dark] .colab-df-convert:hover {\n",
              "      background-color: #434B5C;\n",
              "      box-shadow: 0px 1px 3px 1px rgba(0, 0, 0, 0.15);\n",
              "      filter: drop-shadow(0px 1px 2px rgba(0, 0, 0, 0.3));\n",
              "      fill: #FFFFFF;\n",
              "    }\n",
              "  </style>\n",
              "\n",
              "      <script>\n",
              "        const buttonEl =\n",
              "          document.querySelector('#df-56827709-d7b5-48f5-aa39-16ba34405099 button.colab-df-convert');\n",
              "        buttonEl.style.display =\n",
              "          google.colab.kernel.accessAllowed ? 'block' : 'none';\n",
              "\n",
              "        async function convertToInteractive(key) {\n",
              "          const element = document.querySelector('#df-56827709-d7b5-48f5-aa39-16ba34405099');\n",
              "          const dataTable =\n",
              "            await google.colab.kernel.invokeFunction('convertToInteractive',\n",
              "                                                     [key], {});\n",
              "          if (!dataTable) return;\n",
              "\n",
              "          const docLinkHtml = 'Like what you see? Visit the ' +\n",
              "            '<a target=\"_blank\" href=https://colab.research.google.com/notebooks/data_table.ipynb>data table notebook</a>'\n",
              "            + ' to learn more about interactive tables.';\n",
              "          element.innerHTML = '';\n",
              "          dataTable['output_type'] = 'display_data';\n",
              "          await google.colab.output.renderOutput(dataTable, element);\n",
              "          const docLink = document.createElement('div');\n",
              "          docLink.innerHTML = docLinkHtml;\n",
              "          element.appendChild(docLink);\n",
              "        }\n",
              "      </script>\n",
              "    </div>\n",
              "  </div>\n",
              "  "
            ]
          },
          "metadata": {},
          "execution_count": 87
        }
      ]
    },
    {
      "cell_type": "markdown",
      "source": [
        "Для начала воспользуемся двумя подходами - bag of words и TF-IDF."
      ],
      "metadata": {
        "id": "93a9y8NGXWT3"
      }
    },
    {
      "cell_type": "code",
      "source": [
        "cv=CountVectorizer(min_df=0,max_df=1,binary=False,ngram_range=(1,2))\n",
        "X_train_cv=cv.fit_transform(X_train['review_clean'])\n",
        "X_test_cv=cv.transform(X_test['review_clean'])\n",
        "\n",
        "print('BOW_cv_train:',X_train_cv.shape)\n",
        "print('BOW_cv_test:',X_test_cv.shape)"
      ],
      "metadata": {
        "colab": {
          "base_uri": "https://localhost:8080/"
        },
        "id": "n_mECgenXhmo",
        "outputId": "04f67e12-87b8-4d75-c3ff-8e66b97bad93"
      },
      "execution_count": 88,
      "outputs": [
        {
          "output_type": "stream",
          "name": "stdout",
          "text": [
            "BOW_cv_train: (1763, 14782)\n",
            "BOW_cv_test: (588, 14782)\n"
          ]
        }
      ]
    },
    {
      "cell_type": "code",
      "source": [
        "tv=TfidfVectorizer(min_df=0,max_df=1,use_idf=True, ngram_range=(1,2))\n",
        "X_train_tv=tv.fit_transform(X_train['review_clean'])\n",
        "X_test_tv=tv.transform(X_test['review_clean'])\n",
        "\n",
        "print('Tfidf_train:',X_train_tv.shape)\n",
        "print('Tfidf_test:',X_test_tv.shape)"
      ],
      "metadata": {
        "colab": {
          "base_uri": "https://localhost:8080/"
        },
        "id": "c5KMz6jfYZ40",
        "outputId": "2f079008-024f-4c9f-ce7c-c4dc816ee236"
      },
      "execution_count": 89,
      "outputs": [
        {
          "output_type": "stream",
          "name": "stdout",
          "text": [
            "Tfidf_train: (1763, 14782)\n",
            "Tfidf_test: (588, 14782)\n"
          ]
        }
      ]
    },
    {
      "cell_type": "markdown",
      "source": [
        "В качестве классификатора возьмем RandomForest, логистическую регрессию, knn, decision tree."
      ],
      "metadata": {
        "id": "nRBI8obmY4-7"
      }
    },
    {
      "cell_type": "code",
      "source": [
        "from sklearn.ensemble import RandomForestClassifier\n",
        "from sklearn.tree import DecisionTreeClassifier\n",
        "from sklearn.linear_model import LogisticRegression\n",
        "from sklearn.neighbors import KNeighborsClassifier"
      ],
      "metadata": {
        "id": "qu1lzTrEYfMs"
      },
      "execution_count": 90,
      "outputs": []
    },
    {
      "cell_type": "markdown",
      "source": [
        "Random forest:"
      ],
      "metadata": {
        "id": "-O_DSL8AjoVP"
      }
    },
    {
      "cell_type": "markdown",
      "source": [
        "CV:"
      ],
      "metadata": {
        "id": "UAd5rvY4lUWp"
      }
    },
    {
      "cell_type": "code",
      "source": [
        "classifier_cv = RandomForestClassifier(n_estimators=1000, random_state=0)\n",
        "classifier_cv.fit(X_train_cv, y_train) "
      ],
      "metadata": {
        "colab": {
          "base_uri": "https://localhost:8080/"
        },
        "id": "KxfcBCx6eNTv",
        "outputId": "494c3e44-683c-438f-c044-d2de102ef326"
      },
      "execution_count": 91,
      "outputs": [
        {
          "output_type": "execute_result",
          "data": {
            "text/plain": [
              "RandomForestClassifier(n_estimators=1000, random_state=0)"
            ]
          },
          "metadata": {},
          "execution_count": 91
        }
      ]
    },
    {
      "cell_type": "code",
      "source": [
        "preds_cv = classifier_cv.predict(X_test_cv)\n",
        "print(classifier_cv.score(X_train_cv, y_train))\n",
        "print(classifier_cv.score(X_test_cv, y_test))"
      ],
      "metadata": {
        "colab": {
          "base_uri": "https://localhost:8080/"
        },
        "id": "kEMQ4gnhh2yt",
        "outputId": "e90e984d-9da6-46c8-dac3-93822a9c3e0f"
      },
      "execution_count": 92,
      "outputs": [
        {
          "output_type": "stream",
          "name": "stdout",
          "text": [
            "0.761769710720363\n",
            "0.32653061224489793\n"
          ]
        }
      ]
    },
    {
      "cell_type": "markdown",
      "source": [
        "TF-IDF:"
      ],
      "metadata": {
        "id": "J1eQKFfplWYC"
      }
    },
    {
      "cell_type": "code",
      "source": [
        "classifier_tv = RandomForestClassifier(n_estimators=1000, random_state=0)\n",
        "classifier_tv.fit(X_train_tv, y_train) "
      ],
      "metadata": {
        "colab": {
          "base_uri": "https://localhost:8080/"
        },
        "id": "9qcBcMyOlY1E",
        "outputId": "532c0cb4-c000-4603-8cb0-f53ef1bf3590"
      },
      "execution_count": 95,
      "outputs": [
        {
          "output_type": "execute_result",
          "data": {
            "text/plain": [
              "RandomForestClassifier(n_estimators=1000, random_state=0)"
            ]
          },
          "metadata": {},
          "execution_count": 95
        }
      ]
    },
    {
      "cell_type": "code",
      "source": [
        "preds_tv = classifier_tv.predict(X_test_tv)\n",
        "print(classifier_tv.score(X_train_tv, y_train))\n",
        "print(classifier_tv.score(X_test_tv, y_test))"
      ],
      "metadata": {
        "colab": {
          "base_uri": "https://localhost:8080/"
        },
        "id": "r5Sam3iwxv21",
        "outputId": "15d40149-0539-4d97-cfd2-1f9bc4429c1c"
      },
      "execution_count": 96,
      "outputs": [
        {
          "output_type": "stream",
          "name": "stdout",
          "text": [
            "0.761769710720363\n",
            "0.32653061224489793\n"
          ]
        }
      ]
    },
    {
      "cell_type": "markdown",
      "source": [
        "Логистическая регрессия:"
      ],
      "metadata": {
        "id": "Z6TGLulVjrS0"
      }
    },
    {
      "cell_type": "markdown",
      "source": [
        "CV:"
      ],
      "metadata": {
        "id": "r9Djg4GpyIeY"
      }
    },
    {
      "cell_type": "code",
      "source": [
        "lr_cv = LogisticRegression()\n",
        "lr_cv.fit(X_train_cv, y_train)"
      ],
      "metadata": {
        "colab": {
          "base_uri": "https://localhost:8080/"
        },
        "id": "zuLaJ_C_yH6H",
        "outputId": "e5ba551b-a013-414f-95f0-e6088897eb13"
      },
      "execution_count": 98,
      "outputs": [
        {
          "output_type": "execute_result",
          "data": {
            "text/plain": [
              "LogisticRegression()"
            ]
          },
          "metadata": {},
          "execution_count": 98
        }
      ]
    },
    {
      "cell_type": "code",
      "source": [
        "preds_lg_cv = lr_cv.predict(X_test_cv)\n",
        "print(lr_cv.score(X_train_cv, y_train))\n",
        "print(lr_cv.score(X_test_cv, y_test))"
      ],
      "metadata": {
        "colab": {
          "base_uri": "https://localhost:8080/"
        },
        "id": "YayUmKAKzXhc",
        "outputId": "db0fdc34-6dbe-4b02-d1af-369e5e15f7aa"
      },
      "execution_count": 99,
      "outputs": [
        {
          "output_type": "stream",
          "name": "stdout",
          "text": [
            "0.7470221213840046\n",
            "0.3299319727891156\n"
          ]
        }
      ]
    },
    {
      "cell_type": "markdown",
      "source": [
        "TF-IDF:"
      ],
      "metadata": {
        "id": "gPWQXQJjyKBi"
      }
    },
    {
      "cell_type": "code",
      "source": [
        "lr_tv = LogisticRegression()\n",
        "lr_tv.fit(X_train_tv, y_train)"
      ],
      "metadata": {
        "colab": {
          "base_uri": "https://localhost:8080/"
        },
        "id": "NnjUD034ils4",
        "outputId": "f4275b0a-1ceb-40a4-8ca4-540a8c9500d8"
      },
      "execution_count": 101,
      "outputs": [
        {
          "output_type": "execute_result",
          "data": {
            "text/plain": [
              "LogisticRegression()"
            ]
          },
          "metadata": {},
          "execution_count": 101
        }
      ]
    },
    {
      "cell_type": "code",
      "source": [
        "preds_lg_tv = lr_tv.predict(X_test_tv)\n",
        "print(lr_tv.score(X_train_tv, y_train))\n",
        "print(lr_tv.score(X_test_tv, y_test))"
      ],
      "metadata": {
        "colab": {
          "base_uri": "https://localhost:8080/"
        },
        "id": "owt08801zlkv",
        "outputId": "a45fa21d-2723-4b8b-bdd2-2be82f952500"
      },
      "execution_count": 102,
      "outputs": [
        {
          "output_type": "stream",
          "name": "stdout",
          "text": [
            "0.5053885422575156\n",
            "0.3112244897959184\n"
          ]
        }
      ]
    },
    {
      "cell_type": "markdown",
      "source": [
        "KNN:"
      ],
      "metadata": {
        "id": "s9OJXRLWz4U3"
      }
    },
    {
      "cell_type": "markdown",
      "source": [
        "CV:"
      ],
      "metadata": {
        "id": "IRo3rv8y0vfp"
      }
    },
    {
      "cell_type": "code",
      "source": [
        "knn_cv = KNeighborsClassifier()\n",
        "knn_cv.fit(X_train_cv, y_train)"
      ],
      "metadata": {
        "colab": {
          "base_uri": "https://localhost:8080/"
        },
        "id": "TCLb_d5gzs1h",
        "outputId": "9e89478a-51d5-4de6-d4cb-59bb1716a94f"
      },
      "execution_count": 103,
      "outputs": [
        {
          "output_type": "execute_result",
          "data": {
            "text/plain": [
              "KNeighborsClassifier()"
            ]
          },
          "metadata": {},
          "execution_count": 103
        }
      ]
    },
    {
      "cell_type": "code",
      "source": [
        "preds_knn_cv = knn_cv.predict(X_test_cv)\n",
        "print(knn_cv.score(X_train_cv, y_train))\n",
        "print(knn_cv.score(X_test_cv, y_test))"
      ],
      "metadata": {
        "colab": {
          "base_uri": "https://localhost:8080/"
        },
        "id": "SW_Efe8r05Ux",
        "outputId": "8cb08a5e-286e-4f9a-f3bc-d1ecc160e887"
      },
      "execution_count": 104,
      "outputs": [
        {
          "output_type": "stream",
          "name": "stdout",
          "text": [
            "0.3828701077708451\n",
            "0.19727891156462585\n"
          ]
        }
      ]
    },
    {
      "cell_type": "markdown",
      "source": [
        "TF-IDF:"
      ],
      "metadata": {
        "id": "e0L77icF1F5v"
      }
    },
    {
      "cell_type": "code",
      "source": [
        "knn_tv = KNeighborsClassifier()\n",
        "knn_tv.fit(X_train_tv, y_train)"
      ],
      "metadata": {
        "colab": {
          "base_uri": "https://localhost:8080/"
        },
        "id": "6Bjw7wg01ECI",
        "outputId": "36ca6560-d3dd-4442-ca3a-faffb51d8d6c"
      },
      "execution_count": 105,
      "outputs": [
        {
          "output_type": "execute_result",
          "data": {
            "text/plain": [
              "KNeighborsClassifier()"
            ]
          },
          "metadata": {},
          "execution_count": 105
        }
      ]
    },
    {
      "cell_type": "code",
      "source": [
        "preds_knn_tv = knn_tv.predict(X_test_tv)\n",
        "print(knn_tv.score(X_train_tv, y_train))\n",
        "print(knn_tv.score(X_test_tv, y_test))"
      ],
      "metadata": {
        "colab": {
          "base_uri": "https://localhost:8080/"
        },
        "id": "KmUCUyu51NfD",
        "outputId": "54bfae27-510f-4411-8b97-7f4937d1cfbe"
      },
      "execution_count": 106,
      "outputs": [
        {
          "output_type": "stream",
          "name": "stdout",
          "text": [
            "0.290414066931367\n",
            "0.15476190476190477\n"
          ]
        }
      ]
    },
    {
      "cell_type": "markdown",
      "source": [
        "Мрак."
      ],
      "metadata": {
        "id": "JjCvy3vK1Uni"
      }
    },
    {
      "cell_type": "markdown",
      "source": [
        "Посмотрим на word2vec:\n"
      ],
      "metadata": {
        "id": "dp3mmpBI8BBQ"
      }
    },
    {
      "cell_type": "code",
      "source": [
        "import gensim\n",
        "import xgboost as xgb\n"
      ],
      "metadata": {
        "id": "L-kotft98JO5"
      },
      "execution_count": 111,
      "outputs": []
    },
    {
      "cell_type": "code",
      "source": [
        "!wget https://dl.fbaipublicfiles.com/fasttext/vectors-english/crawl-300d-2M.vec.zip -O crawl-300d-2M.vec.zip\n",
        "!unzip crawl-300d-2M.vec.zip"
      ],
      "metadata": {
        "colab": {
          "base_uri": "https://localhost:8080/"
        },
        "id": "tsSTwgoO8w4I",
        "outputId": "fe4a4a3a-ee0b-4172-8db7-734ec0e54284"
      },
      "execution_count": 114,
      "outputs": [
        {
          "output_type": "stream",
          "name": "stdout",
          "text": [
            "--2022-05-18 20:54:30--  https://dl.fbaipublicfiles.com/fasttext/vectors-english/crawl-300d-2M.vec.zip\n",
            "Resolving dl.fbaipublicfiles.com (dl.fbaipublicfiles.com)... 172.67.9.4, 104.22.74.142, 104.22.75.142, ...\n",
            "Connecting to dl.fbaipublicfiles.com (dl.fbaipublicfiles.com)|172.67.9.4|:443... connected.\n",
            "HTTP request sent, awaiting response... 200 OK\n",
            "Length: 1523785255 (1.4G) [application/zip]\n",
            "Saving to: ‘crawl-300d-2M.vec.zip’\n",
            "\n",
            "crawl-300d-2M.vec.z 100%[===================>]   1.42G  13.1MB/s    in 38s     \n",
            "\n",
            "2022-05-18 20:55:09 (38.4 MB/s) - ‘crawl-300d-2M.vec.zip’ saved [1523785255/1523785255]\n",
            "\n",
            "Archive:  crawl-300d-2M.vec.zip\n",
            "  inflating: crawl-300d-2M.vec       \n"
          ]
        }
      ]
    },
    {
      "cell_type": "code",
      "source": [
        "model = gensim.models.KeyedVectors.load_word2vec_format('crawl-300d-2M.vec', binary = True, encoding='unicode_escape' ) \n",
        "model.vector_size"
      ],
      "metadata": {
        "colab": {
          "base_uri": "https://localhost:8080/"
        },
        "id": "kpHSr8RP1M9A",
        "outputId": "01411172-5b3b-4f49-e630-160aaaa773e3"
      },
      "execution_count": 116,
      "outputs": [
        {
          "output_type": "execute_result",
          "data": {
            "text/plain": [
              "300"
            ]
          },
          "metadata": {},
          "execution_count": 116
        }
      ]
    },
    {
      "cell_type": "code",
      "source": [
        ""
      ],
      "metadata": {
        "id": "CvQuLnwX9uaF"
      },
      "execution_count": null,
      "outputs": []
    },
    {
      "cell_type": "code",
      "source": [
        ""
      ],
      "metadata": {
        "id": "COZM8Xwg8EuY"
      },
      "execution_count": null,
      "outputs": []
    }
  ]
}